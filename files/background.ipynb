{
 "cells": [
  {
   "cell_type": "markdown",
   "id": "0df4c4a9-2200-4a97-aa59-2fd5fb2902cb",
   "metadata": {},
   "source": [
    "## Notations"
   ]
  },
  {
   "cell_type": "markdown",
   "id": "2e9a3bb7-aa8f-48c3-a932-f07dc2138950",
   "metadata": {},
   "source": [
    "### Probability measure"
   ]
  },
  {
   "cell_type": "markdown",
   "id": "c2f64dad-c755-468a-9f11-7a645622eecd",
   "metadata": {},
   "source": [
    "Consider a probability space $(\\Omega, \\mc{E}, P)$ where\n",
    "- the set $\\Omega$ is the sample space,\n",
    "- the sigma algebra $\\mc{E}\\subseteq 2^{\\Omega}$ is the collection of events, and\n",
    "- the countably additive function $P\\in [0,1]^{\\mc{E}}$ is the probability measures."
   ]
  },
  {
   "cell_type": "markdown",
   "id": "7d79b5aa-9670-429d-8ae3-4fba6bcceb9f",
   "metadata": {},
   "source": [
    "To consider another probability measure similar to $P$, we simply write $Q\\sim P$ to denote another countably additive function $Q$ having the same domain and range as $P$."
   ]
  },
  {
   "cell_type": "markdown",
   "id": "924cbfeb-6538-4c76-8eb9-61968fc0b5d9",
   "metadata": {},
   "source": [
    "### Random variable"
   ]
  },
  {
   "cell_type": "markdown",
   "id": "66e5e6b6-3cab-46e2-bdff-20dfccb79956",
   "metadata": {},
   "source": [
    "A measurable function $\\R{Z}\\in (\\Omega_{\\R{Z}}, \\mc{E}_{\\R{Z}})^{(\\Omega, \\mc{E})}$ is a random variable, which induces a probability space $(\\Omega_{\\R{Z}}, \\mc{E}_{\\R{Z}}, Q_{\\R{Z}})$ where $Q_{\\R{Z}}:=Q\\circ \\R{Z}$, for any $Q\\sim P$.\n",
    "\n",
    ":::{note}\n",
    "\n",
    "$P=P_{\\R{I}}$ for the identity map $\\R{I}$.\n",
    "\n",
    ":::"
   ]
  },
  {
   "cell_type": "markdown",
   "id": "779282b4-33d2-4fe4-926f-26aa7a1fd325",
   "metadata": {},
   "source": [
    "To consider another random variable similar to $\\R{Z}$, we simply write $\\R{Z}'\\sim \\R{Z}$ to denote another measureable function $\\R{Z}'$ having the same domain and range as $\\R{Z}$. \n",
    "\n",
    "To specify the distribution of a random variable, we write\n",
    "\n",
    "- $\\R{Z}\\sim Q_{\\R{Z}}$ to mean $P_{\\R{Z}}=Q_{\\R{Z}}$ for any $Q\\sim P$, and\n",
    "- $\\R{Z}'\\sim P_{\\R{Z}}$ to mean $P_{\\R{Z}'}=P_{\\R{Z}}$ for $\\R{Z}'\\sim \\R{Z}$. \n",
    "\n",
    ":::{note}\n",
    "\n",
    "To avoid ambiguity, random variables are denoted by upright capital letters.\n",
    "\n",
    ":::"
   ]
  },
  {
   "cell_type": "markdown",
   "id": "c0a61e44-ea38-4cd2-aedd-1a1ddd38356b",
   "metadata": {},
   "source": [
    "### Mean"
   ]
  },
  {
   "cell_type": "markdown",
   "id": "6dfc631b-c02e-4b23-aa69-58efcb3904f6",
   "metadata": {},
   "source": [
    "For any random variable $\\R{Z}$ that maps to a topological vector space, its expectation (mean) with respect to $Q\\sim P$ is the Lebesgue integral\n",
    "\\begin{align}\n",
    "E_Q[f(\\R{Z})]&:=\\int \\R{Z} \\,dQ \\\\\n",
    "&= \\int_{\\mathrlap{z\\in \\Omega_{\\R{Z}}}} \\;z \\,dQ_{\\R{Z}}(z)\n",
    "\\end{align}\n",
    "\n",
    "where the first integral can be written explicitly as the integral $\\int_{\\Omega} \\R{Z} \\,dQ$ over the entire sample space $\\Omega$ for $Q$, and the second integral can be written implicitly as the integral $\\int \\operatorname{id}_{\\Omega_{\\R{Z}}} \\,dQ_{\\R{Z}}$ of the identity function $\\operatorname{id}_{\\Omega_{\\R{Z}}}$ over the sample space $\\Omega_{\\R{Z}}$ of $\\R{Z}$.\n",
    "\n",
    "$E[\\R{Z}]:=E_P[\\R{Z}]$ is the expectation (with respect to the default probability measure $P$)."
   ]
  },
  {
   "cell_type": "markdown",
   "id": "0278a57a-4495-4a7e-b6f1-f18e475976a9",
   "metadata": {
    "tags": []
   },
   "source": [
    "### Divergence"
   ]
  },
  {
   "cell_type": "markdown",
   "id": "87566488-7576-4e7a-95c4-c83ed7af78a2",
   "metadata": {},
   "source": [
    "The set of density ratios w.r.t. $\\R{Z}'$ is defined as\n",
    "\n",
    "\\begin{align}\n",
    "\\mc{R}_{\\R{Z}'}&:=\\Set{\\left.r\\in {[0,\\infty)}^{\\Omega_{\\R{Z}'}} \\right| E[r(\\R{Z}')]=1}.\n",
    "\\end{align}\n",
    "\n",
    "By the Radon-Nikodym Theorem, if $P_{\\R{Z}}$ is absolutely continuous with respect to $P_{\\R{Z}'}$, denoted as $P_{\\R{Z}} \\ll P_{\\R{Z}'}$, then\n",
    "\n",
    "\\begin{align}\n",
    "P_{\\R{Z}}(A)=\\int_A r\\,dP_{\\R{Z}'} \\quad \\forall A\\in \\mc{E}_{\\R{Z}'}\n",
    "\\end{align}\n",
    "\n",
    "for some $r\\in \\mc{R}_{\\R{Z}'}$ unique up to a $P_{\\R{Z}'}$-null set. Such a density ratio of $P_{\\R{Z}}$ with respect to $P_{\\R{Z}'}$ is denoted as $\\frac{dP_{\\R{Z}}}{dP_{\\R{Z}'}}$."
   ]
  },
  {
   "cell_type": "markdown",
   "id": "950cea9f-891d-4768-b21f-f865d7a505c9",
   "metadata": {},
   "source": [
    "For a function $f\\in {(-\\infty,\\infty]}^{[0,\\infty)}$ strictly convex with $f(1)=0$, the $f$-divergence from $P_{\\R{Z}}$ to $P_{\\R{Z}'}\\gg P_{\\R{Z}}$ is defined as\n",
    "\n",
    "\\begin{align}\n",
    "D_f(P_{\\R{Z}} \\| P_{\\R{Z}'}) \n",
    "&:=\n",
    "E\\left[f\\left(\\frac{dP_{\\R{Z}}}{dP_{\\R{Z}'}}(\\R{Z}')\\right)\\right]\n",
    "\\end{align}"
   ]
  },
  {
   "cell_type": "markdown",
   "id": "bd6fce91-72ea-4e0e-aea2-bc83b0b24bec",
   "metadata": {},
   "source": [
    "### DV Formula for Divergence"
   ]
  },
  {
   "cell_type": "markdown",
   "id": "3a0eeba7-bd58-438e-9f2a-d35cba4f1759",
   "metadata": {},
   "source": [
    "Consider the dual system $(\\mc{L}^1_{\\R{Z}'}, \\mc{L}^\\infty_{\\R{Z}'}, \\langle \\cdot, \\cdot \\rangle_{\\R{Z}'})$ where \n",
    "\n",
    "- $\\mc{L}^p_{\\R{Z}'}$ is the $p$-Lebesgue space with respect to measure $P_{\\R{Z}'}$ where equality is up to a $P_{\\R{Z}'}$-null set, and\n",
    "- the non-degenerate dual pairing is\n",
    "\n",
    "\\begin{align}\n",
    "\\langle r, s\\rangle_{\\R{Z}'}&:= E[r(\\R{Z}')s(\\R{Z}')]&& \\forall (r, s) \\in \\mc{L}^1_{\\R{Z}'}\\times \\mc{L}^\\infty_{\\R{Z}'}.\n",
    "\\end{align}\n",
    "\n",
    "Duality implies:\n",
    "\n",
    "- $r\\in \\mc{L}_{\\R{Z}'}^1$ and  $\\langle r, \\cdot \\rangle_{\\R{Z}'} = 0$ implies $r=0$ up to a $P_{\\R{Z}'}$-null set.\n",
    "- $s\\in \\mc{L}_{\\R{Z}'}^\\infty$ and  $\\langle \\cdot, s \\rangle_{\\R{Z}'} = 0$ implies $s=0$ up to a $P_{\\R{Z}'}$-null set.\n",
    "\n",
    "More explicitly:\n",
    "\n",
    "- $\\mc{L}^1_{\\R{Z}'}$ is the set of measureable functions $r\\in (-\\infty, \\infty)^Z$ with non-degenerate $1$-norm w.r.t. $P_{\\R{Z}'}$\n",
    "\n",
    "    \\begin{align}\n",
    "    \\norm{r}_{\\mc{L}^1_{\\R{Z}'}} := \\int \\abs{r}\\,dP_{\\R{Z}'}.\n",
    "    \\end{align}\n",
    "\n",
    "- $\\mc{L}^\\infty_{\\R{Z}'}$ is the set of measurable functions $s\\in (-\\infty, \\infty)^Z$ with non-degenerate $\\infty$-norm w.r.t. $P_{\\R{Z}'}$\n",
    "\n",
    "    \\begin{align}\n",
    "    \\norm{s}_{\\mc{L}^\\infty_{\\R{Z}'}}:=\\inf\\Set{c\\geq 0 \\left| \\forall A\\in \\mc{E}_{\\R{Z}'},\\sup_{z\\in A} \\abs{s(z)} \\leq c \\text{ or } P_{\\R{Z}'}(A)=0\\right.},\n",
    "    \\end{align}\n",
    "    \n",
    "    which is the supremum up to a $P_{\\R{Z}}$-null set."
   ]
  },
  {
   "cell_type": "markdown",
   "id": "7268e903-239f-4fea-ab86-215d6955fff1",
   "metadata": {},
   "source": [
    "For $P_{\\R{Z}}\\ll P_{\\R{Z}'}$ and any convex set $\\mc{R}$ with $\\mc{R}_{\\R{Z}'}\\subseteq \\mc{R}\\subseteq \\mc{L}^1_{\\R{Z}'}$, the $f$-divergence can be written as \n",
    "\n",
    "\\begin{align}\n",
    "D_{f}(P_{\\R{Z}}\\|P_{\\R{Z}'}) &= F\\left[ \\frac{dP_{\\R{Z}}}{dP_{\\R{Z}'}} \\right]\n",
    "\\end{align}\n",
    "\n",
    "where $F\\in (-\\infty, \\infty]^{\\mc{L}^1_{\\R{Z}'}}$ is a convex function defined as\n",
    "\n",
    "\\begin{align}\n",
    "F[r]&:=E\\left[(f\\circ r)(\\R{Z}) \\right] + \\delta_{\\mc{R}}[r] && \\text{where}\\\\\n",
    "\\delta_{\\mc{R}}[r] &:=\n",
    "\\begin{cases}\n",
    "0 & r\\in \\mc{R}\\\\\n",
    "\\infty & \\text{otherwise},\n",
    "\\end{cases}\n",
    "\\end{align}\n",
    "\n",
    "i.e., the characteristic function of $\\mc{R}$."
   ]
  },
  {
   "cell_type": "markdown",
   "id": "9242137e-8455-4d68-9669-5d9a685b2f04",
   "metadata": {},
   "source": [
    "The convex conjugate of $F\\in (-\\infty, \\infty]^{ \\mc{L}^\\infty_{\\R{Z}'}}$ is defined as\n",
    "\n",
    "\\begin{align}\n",
    "F^*[s]&:= \\sup_{r\\in \\mc{L}^1_{\\R{Z}'}} \\underbrace{\\langle r,s \\rangle_{\\R{Z}'}}_{=E[r(\\R{Z}')s(\\R{Z}')]} - F[r].\n",
    "\\end{align}"
   ]
  },
  {
   "cell_type": "markdown",
   "id": "fd3581a9-7c83-42b3-8e3b-71ca86862471",
   "metadata": {},
   "source": [
    ":::{admonition} **Theorem** (DV Formula)\n",
    "\n",
    "For a function $f\\in {(-\\infty,\\infty]}^{[0,\\infty)}$ strictly convex with $f(1)=0$, \n",
    "\n",
    "\\begin{align}\n",
    "D_f(P_{\\R{Z}}\\|P_{\\R{Z}'})&= \\sup_{s\\in \\mc{L}^{\\infty}_{\\R{Z}'}} E[r(\\R{Z})] - F^*[s].\n",
    "\\end{align}\n",
    "\n",
    "for $P_{\\R{Z}}\\ll P_{\\R{Z}'}$, where \n",
    "\n",
    "\\begin{align}\n",
    "F^*[s]&:= \\sup_{r\\in \\mc{L}^1_{\\R{Z}'}} \\underbrace{\\langle r,s \\rangle_{\\R{Z}'}}_{=E[r(\\R{Z}')s(\\R{Z}')]} - F[r]\\\\\n",
    "F[r]&:=E\\left[(f\\circ r)(\\R{Z}) \\right] + \\delta_{\\mc{R}}[r]\\\\\n",
    "\\delta_{\\mc{R}}[r] &:=\n",
    "\\begin{cases}\n",
    "0 & r\\in \\mc{R}\\\\\n",
    "\\infty & \\text{otherwise},\n",
    "\\end{cases}\n",
    "\\end{align}\n",
    "\n",
    "for any convex set $\\mc{R}$ satisfying \n",
    "\n",
    "\\begin{align}\n",
    "\\mc{R}_{\\R{Z}'}\\subseteq \\mc{R}\\subseteq \\mc{L}^1_{\\R{Z}'}.\n",
    "\\end{align}\n",
    "\n",
    "\n",
    ":::"
   ]
  },
  {
   "cell_type": "markdown",
   "id": "38bd2509-f589-4c40-b84c-04236b12888a",
   "metadata": {},
   "source": [
    ":::{admonition} Proof\n",
    "\n",
    "Since $F$ is convex, and convex conjugation is an involution,\n",
    "\n",
    "\\begin{align}\n",
    "F[r] &= \\sup_{s\\in \\mc{L}^{\\infty}_{\\R{Z}'}} \\langle r,s \\rangle_{\\R{Z}'} - F^*[s] \n",
    "\\end{align}\n",
    "\n",
    "which evaluates to the $f$-Divergence at $r=\\frac{dP_{\\R{Z}}}{dP_{\\R{Z}'}}$, in which case $\\langle r, s \\rangle_{\\R{Z}'}=E[r(\\R{Z})]$.\n",
    "\n",
    ":::"
   ]
  },
  {
   "cell_type": "markdown",
   "id": "b76c5510-02be-47e9-a39f-d7d66980f5f9",
   "metadata": {},
   "source": [
    "### Reproducing Kernel Hilbert Space"
   ]
  },
  {
   "cell_type": "markdown",
   "id": "eef890f8-0e17-4182-9b68-f76052344319",
   "metadata": {},
   "source": [
    "A positive type function $K\\in (-\\infty, \\infty)^{Z^2}$ is a reproducing kernel, which induces a reproducing kernel Hilbert space (RKHS) $\\mc{H}_K\\subseteq (-\\infty, \\infty)^{Z}$ with inner product $\\langle\\cdot ,\\cdot\\rangle_K$ (and norm $\\norm{\\cdot}_K$) satisfying the reproducing property that, for all $z\\in Z$ and $s\\in \\mc{H}_K$,\n",
    "\n",
    "\\begin{align}\n",
    "\\overbrace{K(\\cdot, z)}^{K_z :=} &\\in \\mc{H}_K\\\\\n",
    "\\langle s, K_z\\rangle_K &= s(z).\n",
    "\\end{align}\n",
    "\n",
    "$K_z$ is called the $z$-point evaluation embedding. It is the unique element in $\\mc{H}$ such such that $s\\in \\mc{H}_K\\mapsto \\langle s, K_z\\rangle_K$ gives the point evaluation function $s\\in \\mc{H}_K \\mapsto s(z)$ at $z$. The mapping from $z\\in Z$ to $K_z$ is called the canonical feature map."
   ]
  },
  {
   "cell_type": "markdown",
   "id": "ddbb86cd-ed60-40ab-ae41-ab4a6590211a",
   "metadata": {},
   "source": [
    "### Correlation Embedding"
   ]
  },
  {
   "cell_type": "markdown",
   "id": "1030f833-581d-4f5d-81a1-480aec065d2d",
   "metadata": {},
   "source": [
    "By the Riesz representation theorem, each bounded linear functional on a RKHS has a unique embedding in the RKHS."
   ]
  },
  {
   "cell_type": "markdown",
   "id": "9c7050d5-a752-4fff-a76f-da81f088742a",
   "metadata": {},
   "source": [
    "We write $\\R{Z}'\\sim K$ for any reproducing kernel $K\\in (-\\infty,\\infty)^{Z^2}$ such that $Z\\supseteq \\Omega_{\\R{Z}'}$ and\n",
    "\n",
    "\\begin{align}\n",
    "\\underbrace{K_z|_{\\Omega_{\\R{Z}'}}}_{z'\\in \\Omega_{\\R{Z}'}\\mapsto K_z(z')} &\\in \\mc{L}^{\\infty}_{\\R{Z}'}&& \\forall z\\in Z.\n",
    "\\end{align}\n"
   ]
  },
  {
   "cell_type": "markdown",
   "id": "08a89452-0d36-469b-ac95-b2b79d556684",
   "metadata": {},
   "source": [
    ":::{admonition} **Proposition**\n",
    "\n",
    "\n",
    "Consider $\\R{Z}'\\sim K$ for a reproducing kernel $K$. For all $r\\in \\mc{L}^1_{\\R{Z}'}$ and $s\\in \\mc{H}_K$, \n",
    "\n",
    "\\begin{align}\n",
    "\\overbrace{E[r(\\R{Z}')K_{\\R{Z}'}]}^{\\mu_{\\R{Z}'}[r]:=} &\\in \\mc{H}_K \\\\\n",
    "\\langle s, \\mu_{\\R{Z}'}[r]\\rangle_K &= \\langle r, s\\rangle_{\\R{Z}'} = E[r(\\R{Z}')s(\\R{Z}')].\n",
    "\\end{align}\n",
    "\n",
    "$\\mu_{\\R{Z}'}[r]$ is called the $r$-correlation embedding (with respect to the measure $P_{\\R{Z}'}$), and $\\mu_{\\R{Z}'}$ is called the correlation map.\n",
    "\n",
    ":::"
   ]
  },
  {
   "cell_type": "markdown",
   "id": "91515fd0-fd90-4597-a168-31aa48fad3e9",
   "metadata": {},
   "source": [
    ":::{admonition} Proof\n",
    "\n",
    "Note that\n",
    "\n",
    "\\begin{align}\n",
    "\\mu_{\\R{Z}'}[r](z)&= E[r(\\R{Z}')K_z(\\R{Z}')]\\\\\n",
    "&= \\langle r, K_z|_{\\Omega_{\\R{Z}'}} \\rangle_{\\R{Z}'},\n",
    "\\end{align}\n",
    "\n",
    "i.e., the $r$-correlation embedding evaluated at $z$ is the dual pairing of $r$ with the $z$-point evaluation embedding restricted to $\\Omega_{\\R{Z}'}$. Since $K_z|_{\\Omega_{\\R{Z}'}}\\in  \\mc{L}^{\\infty}_{\\R{Z}'}$, the dual pairing is a bounded linear function of $r\\in \\mc{L}^1_{\\R{Z}'}$, and so $\\mu_{\\R{Z}'}[r]\\in \\mc{H}_K$ as desired. Furthermore,\n",
    "\n",
    "\\begin{align}\n",
    "\\langle s, \\mu_{\\R{Z}'}[r]\\rangle_K\n",
    "&=\\langle s, \\langle r, K_z\\rangle_{\\R{Z}'}\\rangle_K\\\\\n",
    "&=\\langle r, \\langle s, K_z\\rangle_K\\rangle_{\\R{Z}'} && \\text{by linearity}\\\\\n",
    "&=\\langle r, s \\rangle_{\\R{Z}'} && \\text{by the reproducing property},\n",
    "\\end{align}\n",
    "\n",
    "which gives $E[r(\\R{Z}')K_z(\\R{Z}')]$ as desired.\n",
    "\n",
    ":::"
   ]
  },
  {
   "cell_type": "markdown",
   "id": "e348d50e-fc93-4f67-9ab7-72605a510e51",
   "metadata": {},
   "source": [
    ":::{admonition} Lemma\n",
    "\n",
    "Consider $\\R{Z}'\\sim K$ for a reproducing kernel $K\\subseteq (-\\infty,\\infty)^Z$, a convex function $F\\in (-\\infty, \\infty]^{ \\mc{L}^{1}_{\\R{Z}'}}$, and its convex conjugate $F^*\\in (-\\infty, \\infty]^{ \\mc{L}^{\\infty}_{\\R{Z}'}}$. For any $r'\\in \\mc{L}^{1}_{\\R{Z}'}$, \n",
    "\n",
    "\\begin{align}\n",
    "F[r']\n",
    "&\\geq \\sup_{s \\in \\mc{H}} \\langle r, s\\rangle_{\\R{Z}'} - F^*[s]\\\\\n",
    "&= \\inf_{\\substack{r\\in \\mc{L}^1_{\\R{Z}'}:\\\\ \\mathclap{\\mu_{\\R{Z}}[r']=\\mu_{\\R{Z}}[r]}}} F[r].\n",
    "\\end{align}\n",
    "\n",
    "and the inequality holds with equality if $\\mc{H}_{K}|_{\\Omega_{\\R{Z}'}}\\subseteq \\mc{L}^\\infty_{\\R{Z}'}$ is total for the dual pairing $\\langle \\cdot, \\cdot \\rangle_{\\R{Z}'}$, i.e., for all $r\\in \\mc{L}^1_{\\R{Z}'}$, we have $r'=0$ up to a $P_{\\R{Z}'}$-null set if\n",
    "\n",
    "\\begin{align}\n",
    "\\langle r,K_z|_{\\Omega_{\\R{Z}'}}\\rangle &= 0 && \\forall z\\in Z.\n",
    "\\end{align}\n",
    "\n",
    ":::"
   ]
  },
  {
   "cell_type": "markdown",
   "id": "645228c2-c281-4d49-aeb0-7b09b80b732d",
   "metadata": {},
   "source": [
    ":::{admonition} Proof\n",
    "\n",
    "Since convex conjugation is a convolution,\n",
    "\n",
    "\\begin{align}\n",
    "F[r'] &\\geq \\sup_{s \\in \\mc{H}} \\langle r', s|_{\\Omega_{\\R{Z}'}}\\rangle_{\\R{Z}'} - F^*[s]\\\\\n",
    "&= \\sup_{s \\in \\mc{H}} \\langle r', s|_{\\Omega_{\\R{Z}'}}\\rangle_{\\R{Z}'} - \\left[\\sup_{r\\in \\mc{L}^1_{\\R{Z}'}} \\langle r, s|_{\\Omega_{\\R{Z}'}}\\rangle_{\\R{Z}'} - F[r]\\right]\\\\\n",
    "&=  \\sup_{s \\in \\mc{H}}\\inf_{r\\in \\mc{L}^1_{\\R{Z}'}} \\langle r'-r, s|_{\\Omega_{\\R{Z}'}}\\rangle_{\\R{Z}'} + F[r]\\\\\n",
    "&=  \\inf_{r\\in \\mc{L}^1_{\\R{Z}'}} \\sup_{s \\in \\mc{H}} \\underbrace{\\langle r'-r, s|_{\\Omega_{\\R{Z}'}}\\rangle_{\\R{Z}'}}_{=\\langle s, \\mu_{\\R{Z}}[r'-r]\\rangle_K} + F[r]\\\\\n",
    "&=  \\inf_{r\\in \\mc{L}^1_{\\R{Z}'}} F[r] + \\underbrace{\\sup_{s \\in \\mc{H}} \\langle s, \\mu_{\\R{Z}}[r'-r]\\rangle_K}_{=\\delta_{\\Set{\\mu_{\\R{Z}}[r']}}[\\mu_{\\R{Z}}[r]] }\\\\\n",
    "&= \\inf_{\\substack{r\\in \\mc{L}^1_{\\R{Z}'}:\\\\ \\mathclap{\\mu_{\\R{Z}}[r']=\\mu_{\\R{Z}}[r]}}} F[r]\n",
    "\\end{align}\n",
    "\n",
    "as desired. Equality holds if $\\mu_{\\R{Z}}[r']=\\mu_{\\R{Z}}[r]$ implies $r'=r$, which is the case when $\\mc{H}_{K}|_{\\Omega_{\\R{Z}'}}$ is total since \n",
    "\n",
    "\\begin{align}\n",
    "\\mu_{\\R{Z}'}[r'-r](z)&= \\langle r'-r, K_z|_{\\Omega_{\\R{Z}'}} \\rangle_{\\R{Z}'}.\n",
    "\\end{align}\n",
    "\n",
    ":::"
   ]
  }
 ],
 "metadata": {
  "kernelspec": {
   "display_name": "Python (Pyodide)",
   "language": "python",
   "name": "python"
  },
  "language_info": {
   "codemirror_mode": {
    "name": "ipython",
    "version": 3
   },
   "file_extension": ".py",
   "mimetype": "text/x-python",
   "name": "python",
   "nbconvert_exporter": "python",
   "pygments_lexer": "ipython3",
   "version": "3.10.8"
  },
  "widgets": {
   "application/vnd.jupyter.widget-state+json": {
    "state": {},
    "version_major": 2,
    "version_minor": 0
   }
  }
 },
 "nbformat": 4,
 "nbformat_minor": 5
}
