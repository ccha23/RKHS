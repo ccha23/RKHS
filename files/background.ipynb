{
 "cells": [
  {
   "cell_type": "markdown",
   "id": "d07c23a9",
   "metadata": {
    "tags": []
   },
   "source": [
    "## Background"
   ]
  },
  {
   "cell_type": "markdown",
   "id": "a5163952",
   "metadata": {},
   "source": [
    "### Probability measure"
   ]
  },
  {
   "cell_type": "markdown",
   "id": "cb95df28",
   "metadata": {},
   "source": [
    "We consider, by default, a probability space $(\\Omega, \\mc{E}, P)$ where\n",
    "- the set $\\Omega$ is the sample space,\n",
    "- the sigma algebra $\\mc{E}\\subseteq 2^{\\Omega}$ is the collection of events, and\n",
    "- the countably additive function $P\\in [0,1]^{\\mc{E}}$ is the probability measure."
   ]
  },
  {
   "cell_type": "markdown",
   "id": "bc00bfa7",
   "metadata": {},
   "source": [
    "$Q\\sim P$ denotes another probability measure similar to $P$ in the sense that $Q$ is a countably additive function in $[0,1]^{\\mc{E}}$.\n",
    "\n",
    ":::{note}\n",
    "\n",
    "In other words, $Q$ is chosen from the set of probability measures on the measurable space $(\\Omega, \\mc{E})$.\n",
    "\n",
    ":::"
   ]
  },
  {
   "cell_type": "markdown",
   "id": "6d175b69",
   "metadata": {},
   "source": [
    "$Q\\ll P$ means a measure $Q$ is absolutely continuous with respect to another measure $P$, i.e., \n",
    "\n",
    "\\begin{align}\n",
    "P(A)=0\\implies Q(A)=0\n",
    "\\end{align}\n",
    "\n",
    "for all $A$ measurable by $P$. \n",
    "\n",
    ":::{note}\n",
    "\n",
    "The support of $Q\\sim P$ is $\\bigcup\\Set{A|Q(A)>0}$. A $Q$-null set is a measurable set $A$ non-overlapping with the support of $Q$, i.e., with $Q(A)=0$. Hence, $Q\\ll P$ means\n",
    "\n",
    "- a $Q$-null set is also a $P$-null set, or equivalently,\n",
    "- the support of $Q$ is contained by the support of $P$.\n",
    "\n",
    ":::"
   ]
  },
  {
   "cell_type": "markdown",
   "id": "983baacc",
   "metadata": {},
   "source": [
    "### Random variable"
   ]
  },
  {
   "cell_type": "markdown",
   "id": "45a578fb",
   "metadata": {},
   "source": [
    "A letter $\\R{Z}$ in upright font denotes a random variable, which is a measurable function from the measurable space $(\\Omega, \\mc{E})$ to another measurable space $(\\Omega_{\\R{Z}}, \\mc{E}_{\\R{Z}})$. \n",
    "\n",
    ":::{note}\n",
    "\n",
    "More precisely, for $\\R{Z}$ to be a random variable, $\\mc{E}_{\\R{Z}}$ is a sigma algebra and\n",
    "\n",
    "\\begin{align}\n",
    "\\sigma(\\R{Z})&:=\\Set{\\R{Z}^{-1}(A)|A\\in \\mc{E}_{\\R{Z}}} \\subseteq \\mc{E}\\\\\n",
    "\\R{Z}^{-1}(A)&:=\\Set{\\R{Z}^{-1}(z)|z\\in A},\n",
    "\\end{align}\n",
    "\n",
    "i.e., $\\mc{E}_{\\R{Z}}$ defines a set of events, the preimages of which through $\\R{Z}$ are measurable in the original measurable space.\n",
    "\n",
    ":::"
   ]
  },
  {
   "cell_type": "markdown",
   "id": "b7834076",
   "metadata": {},
   "source": [
    "For any $Q\\sim P$, $\\R{Z}$ induces a probability space $(\\Omega_{\\R{Z}}, \\mc{E}_{\\R{Z}}, Q_{\\R{Z}})$ where $Q_{\\R{Z}}(A):=Q(\\R{Z}^{-1}(A))$ for all $A\\in \\mc{E}_{\\R{Z}}$.\n",
    "\n",
    ":::{admonition} **Example**\n",
    "\n",
    "$P=P_{\\R{I}}$ for the identity map $\\R{I}:\\omega \\in \\Omega \\mapsto \\omega \\in \\Omega_{\\R{I}}:=\\Omega$ and $\\mc{E}_{\\R{I}}=\\mc{E}$.\n",
    "\n",
    ":::"
   ]
  },
  {
   "cell_type": "markdown",
   "id": "52da9fef",
   "metadata": {},
   "source": [
    "$\\R{Z}'\\sim \\R{Z}$ denotes another random variable $\\R{Z}'$ similar to $\\R{Z}$ in the sense that $\\R{Z}'$ maps to the same measurable space as $\\R{Z}$ does, i.e., $(\\Omega_{\\R{Z}'}, \\mc{E}_{\\R{Z}'})=(\\Omega_{\\R{Z}}, \\mc{E}_{\\R{Z}})$."
   ]
  },
  {
   "cell_type": "markdown",
   "id": "ead9d93a",
   "metadata": {},
   "source": [
    "To specify the distribution of a random variable,\n",
    "\n",
    "- $\\R{Z}\\sim Q_{\\R{Z}}$ means $P_{\\R{Z}}=Q_{\\R{Z}}$ for any $Q\\sim P$, and\n",
    "- $\\R{Z}'\\sim P_{\\R{Z}}$ means $P_{\\R{Z}'}=P_{\\R{Z}}$ for $\\R{Z}'\\sim \\R{Z}$."
   ]
  },
  {
   "cell_type": "markdown",
   "id": "bcc4b4ab",
   "metadata": {},
   "source": [
    "### Mean"
   ]
  },
  {
   "cell_type": "markdown",
   "id": "35e920fa",
   "metadata": {},
   "source": [
    "For any random variable $\\R{Z}$ that maps to a topological vector space, its expectation (mean) with respect to $Q\\sim P$ is the Lebesgue integral\n",
    "\n",
    "\\begin{align}\n",
    "E_Q[\\R{Z}]&:=\\int \\R{Z} \\,dQ\\\\\n",
    "&= \\int_{\\mathrlap{z\\in \\Omega_{\\R{Z}}}} \\;z \\,dQ_{\\R{Z}}(z)\n",
    "\\end{align}\n",
    "\n",
    "where the first integral can be written explicitly as the integral $\\int_{\\Omega} \\R{Z} \\,dQ$ over the entire sample space $\\Omega$ for $Q$, and the second integral can be written implicitly as the integral $\\int \\operatorname{id}_{\\Omega_{\\R{Z}}} \\,dQ_{\\R{Z}}$ of the identity function $\\operatorname{id}_{\\Omega_{\\R{Z}}}$ over the sample space $\\Omega_{\\R{Z}}$ of $\\R{Z}$.\n",
    "\n",
    "$E[\\R{Z}]:=E_P[\\R{Z}]$ is the expectation with respect to the default probability measure $P$."
   ]
  },
  {
   "cell_type": "markdown",
   "id": "caf4aa3f",
   "metadata": {},
   "source": [
    ":::{note}\n",
    "\n",
    "The subscripted expectation can be avoided with $\\R{Z}'\\sim Q_{\\R{Z}}$, which gives\n",
    "\n",
    "\\begin{align}\n",
    "E[\\R{Z}'] = E_Q[\\R{Z}].\n",
    "\\end{align}\n",
    "\n",
    "The dummy random variable $\\R{Z}'$ may be further assumed to be independent of $\\R{Z}$ in cases where its dependency with $\\R{Z}$ is immaterial.\n",
    "\n",
    ":::"
   ]
  },
  {
   "cell_type": "markdown",
   "id": "552ce13f",
   "metadata": {
    "tags": []
   },
   "source": [
    "### $f$-Divergence"
   ]
  },
  {
   "cell_type": "markdown",
   "id": "ac24b94b",
   "metadata": {},
   "source": [
    "The set of density ratios w.r.t. $\\R{Z}'$ is defined as\n",
    "\n",
    "\\begin{align}\n",
    "\\mc{R}_{\\R{Z}'}&:=\\Set{\\left.r\\in {[0,\\infty)}^{\\Omega_{\\R{Z}'}} \\right| E[r(\\R{Z}')]=1}.\n",
    "\\end{align}\n",
    "\n",
    "By the Radon-Nikodym Theorem, if $P_{\\R{Z}} \\ll P_{\\R{Z}'}$, then\n",
    "\n",
    "\\begin{align}\n",
    "P_{\\R{Z}}(A)=\\int_A r\\,dP_{\\R{Z}'} \\quad \\forall A\\in \\mc{E}_{\\R{Z}'}\n",
    "\\end{align}\n",
    "\n",
    "for some $r\\in \\mc{R}_{\\R{Z}'}$ unique up to a $P_{\\R{Z}'}$-null set. Such a density ratio of $P_{\\R{Z}}$ with respect to $P_{\\R{Z}'}$ is denoted as $\\frac{dP_{\\R{Z}}}{dP_{\\R{Z}'}}$."
   ]
  },
  {
   "cell_type": "markdown",
   "id": "bc706815",
   "metadata": {},
   "source": [
    "For a function $f\\in {(-\\infty,\\infty]}^{[0,\\infty)}$ strictly convex with $f(1)=0$, the $f$-divergence from $P_{\\R{Z}}$ to $P_{\\R{Z}'}\\gg P_{\\R{Z}}$ is defined as\n",
    "\n",
    "\\begin{align}\n",
    "D_f(P_{\\R{Z}} \\| P_{\\R{Z}'}) \n",
    "&:=\n",
    "E\\left[f\\left(\\frac{dP_{\\R{Z}}}{dP_{\\R{Z}'}}(\\R{Z}')\\right)\\right].\n",
    "\\end{align}\n",
    "\n",
    ":::{admonition} **Example**\n",
    "\n",
    "KL-divergence is the special case when $f(u) = u\\log u$, in which case\n",
    "\n",
    "\\begin{align}\n",
    "D(P_{\\R{Z}} \\| P_{\\R{Z}'})&:=D_f(P_{\\R{Z}} \\| P_{\\R{Z}'})\\\\\n",
    "&= E\\left[\\frac{dP_{\\R{Z}}}{dP_{\\R{Z}'}}(\\R{Z}')\\log \\frac{dP_{\\R{Z}}}{dP_{\\R{Z}'}}(\\R{Z}')\\right]\\\\\n",
    "&= E\\left[\\log \\frac{dP_{\\R{Z}}}{dP_{\\R{Z}'}}(\\R{Z})\\right].\n",
    "\\end{align}\n",
    "\n",
    ":::"
   ]
  },
  {
   "cell_type": "markdown",
   "id": "f9d8bedf",
   "metadata": {},
   "source": [
    "### Dual Pairing"
   ]
  },
  {
   "cell_type": "markdown",
   "id": "224e4f2e",
   "metadata": {},
   "source": [
    "For a measurable function $f$ of $\\R{Z}'$, $[f]_{\\R{Z}'}$ denotes the class of measurable functions $g$ of $\\R{Z}'$ equivalent to $f$ up to a $P_{\\R{Z}'}$-null set, i.e., for $A\\in \\mc{E}_{\\R{Z}'}$,\n",
    "\n",
    "\\begin{align}\n",
    "P_{\\R{Z}'}(A) = 0 \\text{ or } \\forall z\\in A, f(z)=g(z).\n",
    "\\end{align}"
   ]
  },
  {
   "cell_type": "markdown",
   "id": "ca1cebcb",
   "metadata": {},
   "source": [
    "Consider the dual system $(\\mc{L}^1_{\\R{Z}'}, \\mc{L}^\\infty_{\\R{Z}'}, \\langle \\cdot, \\cdot \\rangle_{\\R{Z}'})$ where \n",
    "\n",
    "- $\\mc{L}^p_{\\R{Z}'}$ is the $p$-Lebesgue space with respect to measure $P_{\\R{Z}'}$ where equality is up to a $P_{\\R{Z}'}$-null set, and\n",
    "- $\\langle \\cdot, \\cdot \\rangle_{\\R{Z}'}$ is the non-degenerate dual pairing where\n",
    "\n",
    "    \\begin{align}\n",
    "    \\langle r, s\\rangle_{\\R{Z}'}&:= E[r(\\R{Z}')s(\\R{Z}')]&& \\forall (r, s) \\in \\mc{L}^1_{\\R{Z}'}\\times \\mc{L}^\\infty_{\\R{Z}'},\n",
    "    \\end{align}\n",
    "    \n",
    "    namely, the correlation of $r$ and $s$ with respect to $P_{\\R{Z}'}$.\n",
    "\n",
    "\n",
    "\n",
    ":::{note}\n",
    "\n",
    "More explicitly:\n",
    "\n",
    "- $\\mc{L}^1_{\\R{Z}'}$ is the set of measureable functions $r$ of $\\R{Z}'$ with non-degenerate $1$-norm w.r.t. $P_{\\R{Z}'}$\n",
    "\n",
    "    \\begin{align}\n",
    "    \\norm{r}^2_{\\mc{L}^1_{\\R{Z}'}} := \\int \\abs{r}\\,dP_{\\R{Z}'}.\n",
    "    \\end{align}\n",
    "\n",
    "- $\\mc{L}^\\infty_{\\R{Z}'}$ is the set of measurable functions $s$ of $\\R{Z}'$ with non-degenerate $\\infty$-norm w.r.t. $P_{\\R{Z}'}$\n",
    "\n",
    "    \\begin{align}\n",
    "    \\norm{s}^2_{\\mc{L}^\\infty_{\\R{Z}'}}:=\\inf\\Set{c\\geq 0 \\left| \\forall A\\in \\mc{E}_{\\R{Z}'},\\sup_{z\\in A} \\abs{s(z)} \\leq c \\text{ or } P_{\\R{Z}'}(A)=0\\right.},\n",
    "    \\end{align}\n",
    "    \n",
    "    which is the supremum up to a $P_{\\R{Z}'}$-null set.\n",
    "    \n",
    "Duality means\n",
    "\n",
    "- $r\\in \\mc{L}_{\\R{Z}'}^1$ and  $\\langle r, \\cdot \\rangle_{\\R{Z}'} = 0$ implies $r\\in [0]_{\\R{Z}'}$.\n",
    "- $s\\in \\mc{L}_{\\R{Z}'}^\\infty$ and  $\\langle \\cdot, s \\rangle_{\\R{Z}'} = 0$ implies $s \\in [0]_{\\R{Z}'}$.\n",
    "\n",
    ":::"
   ]
  },
  {
   "cell_type": "markdown",
   "id": "6bb50697",
   "metadata": {},
   "source": [
    "For any set $\\mc{R}\\subseteq \\mc{L}^1_{\\R{Z}'}$ and $\\mc{S}\\subseteq \\mc{L}^\\infty_{\\R{Z}'}$, consider the linear maps $\\langle \\mc{R}, \\cdot \\rangle_{\\R{Z}'}\\in ((-\\infty, \\infty)^{\\mc{R}})^{\\mc{L}^\\infty_{\\R{Z}'} }$ and $\\langle \\mc{S}, \\cdot \\rangle_{\\R{Z}'}\\in ((-\\infty, \\infty)^{\\mc{S}})^{\\mc{L}^1_{\\R{Z}'} }$ where\n",
    "\n",
    "\\begin{align}\n",
    "\\langle \\mc{R}, s \\rangle_{\\R{Z}'}[r]:= \\langle r, s\\rangle_{\\R{Z}'} && \\text{for $s\\in \\mc{L}^\\infty_{\\R{Z}'}$ and $r\\in \\mc{R}$}\\\\\n",
    "\\langle r, \\mc{S} \\rangle_{\\R{Z}'}[s]:= \\langle r, s\\rangle_{\\R{Z}'} && \\text{for $r\\in \\mc{L}^1_{\\R{Z}'}$ and $s\\in \\mc{S}$}.\n",
    "\\end{align}\n",
    "\n",
    "Their kernels are\n",
    "\n",
    "\\begin{align}\n",
    "\\operatorname{Ker}(\\langle \\mc{R}, \\cdot \\rangle_{\\R{Z'}}) &= \\Set{s\\in \\mc{L}^\\infty_{\\R{Z}'} |\\forall r\\in\\mc{R}, \\langle r,s \\rangle_{\\R{Z'}} = 0 }\\\\\n",
    "\\operatorname{Ker}(\\langle \\cdot, \\mc{S} \\rangle_{\\R{Z'}}) &= \\Set{r\\in \\mc{L}^1_{\\R{Z}'} |\\forall s\\in\\mc{S}, \\langle r,s \\rangle_{\\R{Z'}} = 0 }.\n",
    "\\end{align}\n",
    "\n",
    ":::{admonition} Example\n",
    "\n",
    "The duality of $\\mc{L}^1_{\\R{Z}'}$ and $ \\mc{L}^\\infty_{\\R{Z}'}$ means\n",
    "\n",
    "\\begin{align}\n",
    "\\operatorname{Ker}(\\langle \\mc{L}^1_{\\R{Z}'}, \\cdot \\rangle_{\\R{Z'}}) = \n",
    "\\operatorname{Ker}(\\langle \\cdot, \\mc{L}^\\infty_{\\R{Z}'} \\rangle_{\\R{Z'}}) = \\Set{[0]_{\\R{Z}'}}. \n",
    "\\end{align} \n",
    "\n",
    ":::"
   ]
  },
  {
   "cell_type": "markdown",
   "id": "0476cc0c",
   "metadata": {},
   "source": [
    "### Convex Conjugate"
   ]
  },
  {
   "cell_type": "markdown",
   "id": "f1aaa571",
   "metadata": {},
   "source": [
    "Using the above dual pairing, the convex conjugate of $F\\in (-\\infty, \\infty]^{ \\mc{L}^1_{\\R{Z}'}}$ and $G \\in (-\\infty, \\infty]^{ \\mc{L}^\\infty_{\\R{Z}'}}$ are respectively\n",
    "\n",
    "\\begin{align}\n",
    "[F]^*_{\\mc{L}^1_{\\R{Z}'}}[s]&:= \\sup_{r\\in \\mc{L}^1_{\\R{Z}'}} \\langle r,s \\rangle_{\\R{Z}'} - F[r] && \\text{for } s\\in \\mc{L}^\\infty_{\\R{Z}'}\\\\\n",
    "[G]^*_{\\mc{L}^\\infty_{\\R{Z}'}}[r]&:= \\sup_{r\\in \\mc{L}^\\infty_{\\R{Z}'}} \\langle r,s \\rangle_{\\R{Z}'} - G[s] && \\text{for } r\\in \\mc{L}^1_{\\R{Z}'},\n",
    "\\end{align}\n",
    "\n",
    "which are convex functionals. For simplicity, we may simply write $F^*$ and $G^*$ as the convex conjugates if the parameter space for the supremum is clear from the context."
   ]
  },
  {
   "cell_type": "markdown",
   "id": "9d26e4ba",
   "metadata": {},
   "source": [
    ":::{admonition} **Example**\n",
    "\n",
    "The characteristic function of a set $\\mc{R}$ is defined as\n",
    "\n",
    "\\begin{align}\n",
    "\\delta_{\\mc{R}}[r] &:=\n",
    "\\begin{cases}\n",
    "0 & r\\in \\mc{R}\\\\\n",
    "\\infty & \\text{otherwise},\n",
    "\\end{cases}\n",
    "\\end{align}\n",
    "\n",
    "which is convex iff $\\mc{R}$ is convex. For $\\mc{R}\\in \\mc{L}^1_{\\R{Z}'}$ and $\\mc{S}\\in \\mc{L}^\\infty_{\\R{Z}'}$\n",
    "\n",
    "\\begin{align}\n",
    "[\\delta_{\\mc{R}}]^*_{\\mc{L}^1_{\\R{Z}'}}[s]\n",
    "&:= \\sup_{r\\in \\mc{L}^1_{\\R{Z}'}} \\langle r,s \\rangle_{\\R{Z}'} - \\delta_{\\mc{R}}[r] && \\text{for $s\\in \\mc{L}^\\infty_{\\R{Z}'}$}\\\\\n",
    "&= \\sup_{r\\in \\mc{R}} \\langle r,s \\rangle_{\\R{Z}'}\\\\\n",
    "[\\delta_{\\mc{S}}]^*_{\\mc{L}^\\infty_{\\R{Z}'}}[r]\n",
    "&:= \\sup_{s\\in \\mc{L}^\\infty_{\\R{Z}'}} \\langle r,s \\rangle_{\\R{Z}'} - \\delta_{\\mc{S}}[s] && \\text{for $r\\in \\mc{L}^1_{\\R{Z}'}$}\\\\\n",
    "&= \\sup_{s\\in \\mc{S}} \\langle r,s \\rangle_{\\R{Z}'}.\n",
    "\\end{align}\n",
    "\n",
    ":::"
   ]
  },
  {
   "cell_type": "markdown",
   "id": "96025353",
   "metadata": {},
   "source": [
    "By the Frenchel inequality,\n",
    "\n",
    "\\begin{align}\n",
    "F \\geq [[F]^*]^*,\n",
    "\\end{align}\n",
    "\n",
    "where equality holds if $F$ is convex, in which case the convex conjugation is an involution."
   ]
  },
  {
   "cell_type": "markdown",
   "id": "061fdd52",
   "metadata": {},
   "source": [
    "### Infimal Convolution Theorem"
   ]
  },
  {
   "cell_type": "markdown",
   "id": "1e8686ec",
   "metadata": {},
   "source": [
    "The infimal convolution $\\square$ of two functions $f_1,f_2\\in (-\\infty, \\infty]^X$ with the same domain $X$ is \n",
    "\n",
    "\\begin{align}\n",
    "(f_1 \\square f_2)(x')\n",
    "&:=\\inf_{\\substack{x_1, x_2\\in X:\\\\ x_1+x_2=x'}} f_1(x_1) + f_2(x_2)&& \\text{for $x'\\in X$}\\\\\n",
    "&=\\inf_{x\\in X} f_1(x) + f_2(x'-x).\n",
    "\\end{align}"
   ]
  },
  {
   "cell_type": "markdown",
   "id": "d6cbfd74",
   "metadata": {},
   "source": [
    "By the infimal convolution theorem,\n",
    "\n",
    "\\begin{align}\n",
    "[F_1+F_2]^* &= F_1^* \\square F_2^*\\\\\n",
    "[F_1\\square F_2]^* &= F_1^*+F_2^*\n",
    "\\end{align}\n",
    "\n",
    "for $F_1, F_2$ from the same space of a dual system."
   ]
  },
  {
   "cell_type": "markdown",
   "id": "2273b70f",
   "metadata": {},
   "source": [
    ":::{admonition} **Proposition**\n",
    "\n",
    "For any $F\\in (-\\infty, \\infty]^{\\mc{L}^1_{\\R{Z}'}}$ and $G\\in (-\\infty, \\infty]^{\\mc{L}^\\infty_{\\R{Z}'}}$,\n",
    "\n",
    "\\begin{align}\n",
    "[F + \\delta_{\\mc{R}}]^*[s'] \n",
    "% &= \\inf_{s\\in \\mc{L}^\\infty_{\\R{Z}'}} \\left[F^*[s] + \\sup_{r\\in \\mc{R}} \\langle r,s'-s  \\rangle_{\\R{Z}'}\\right]\\\\\n",
    "&= \\inf_{s'-s\\in \\operatorname{Ker}(\\langle \\mc{R}, \\cdot \\rangle)} F^*[s]\\\\\n",
    "[G + \\delta_{\\mc{S}}]^*[r'] \n",
    "% &= \\inf_{r\\in \\mc{L}^1_{\\R{Z}'}} \\left[G^*[r] + \\sup_{s\\in \\mc{S}} \\langle r'-r,s \\rangle_{\\R{Z}'}\\right]\\\\\n",
    "&= \\inf_{r'-r\\in \\operatorname{Ker}(\\langle \\cdot, \\mc{S} \\rangle)} G^*[r]\n",
    "\\end{align}\n",
    "\n",
    "for any $r'\\in \\mc{L}^1_{\\R{Z}'} \\supseteq\\mc{R}\\subseteq $ and $s'\\in \\mc{L}^\\infty_{\\R{Z}'}\\supseteq \\mc{S}$.\n",
    "\n",
    ":::"
   ]
  },
  {
   "cell_type": "markdown",
   "id": "05ee35bf",
   "metadata": {},
   "source": [
    ":::{admonition} **Proof**\n",
    "\n",
    "By the infimal convolution theorem,\n",
    "\n",
    "\\begin{align}\n",
    "[F + \\delta_{\\mc{R}}]^*[s'] \n",
    "&= \\inf_{s\\in \\mc{L}^\\infty_{\\R{Z}'}} \\bigg[F^*[s] + \\underbrace{\\sup_{r\\in \\mc{R}} \\langle r,s'-s \\rangle_{\\R{Z}'}}_{\\mathrlap{\\text{$\\geq 0$ with equality iff $s'-s\\in \\operatorname{Ker}(\\langle \\mc{R}, \\cdot \\rangle)$}}}\\bigg]\\\\\n",
    "&= \\inf_{s'-s\\in \\operatorname{Ker}(\\langle \\mc{R}, \\cdot \\rangle)} F^*[s]\n",
    "\\end{align}\n",
    "\n",
    "Similarly,\n",
    "\n",
    "\\begin{align}\n",
    "[G + \\delta_{\\mc{S}}]^*[r'] \n",
    "&= \\inf_{r\\in \\mc{L}^1_{\\R{Z}'}} \\left[G^*[r] + \\sup_{s\\in \\mc{S}} \\langle r'-r,s \\rangle_{\\R{Z}'}\\right]\\\\\n",
    "&= \\inf_{r'-r\\in \\operatorname{Ker}(\\langle \\cdot, \\mc{S} \\rangle)} G^*[r].\n",
    "\\end{align}\n",
    "\n",
    ":::"
   ]
  },
  {
   "cell_type": "markdown",
   "id": "809a5ea0",
   "metadata": {},
   "source": [
    "### DV Formula"
   ]
  },
  {
   "cell_type": "markdown",
   "id": "db1167b4",
   "metadata": {},
   "source": [
    "The Frenchel inequality gives the variational formula for $f$-divergence below:"
   ]
  },
  {
   "cell_type": "markdown",
   "id": "fdfa0281",
   "metadata": {},
   "source": [
    ":::{admonition} **Theorem** (DV formula for $f$-divergence)\n",
    "\n",
    "For $P_{\\R{Z}}\\ll P_{\\R{Z}'}$ and a function $f\\in {(-\\infty,\\infty]}^{[0,\\infty)}$ strictly convex with $f(1)=0$, \n",
    "\n",
    "\\begin{align}\n",
    "D_f(P_{\\R{Z}}\\|P_{\\R{Z}'})&\\geq \\sup_{s\\in \\mc{L}^{\\infty}_{\\R{Z}'}} E[s(\\R{Z})] - F^*[s],\n",
    "\\end{align}\n",
    "\n",
    "where\n",
    "\n",
    "\\begin{align}\n",
    "F[r]&:=E\\left[f(r(\\R{Z})) \\right] + \\delta_{\\mc{R}}[r]\n",
    "\\end{align}\n",
    "\n",
    "for any $\\mc{R}\\subseteq \\mc{L}^1_{\\R{Z}'}$. The lower bound for every $s$ is non-increasing in $\\mc{R}$. It is tight if $\\mc{R}$ is a convex set, such as $\\mc{R}_{\\R{Z}'}$, that intersects $\\left[\\tfrac{dP_{\\R{Z}}}{dP_{\\R{Z}'}}\\right]_{\\R{Z}'}$. \n",
    "\n",
    ":::"
   ]
  },
  {
   "cell_type": "markdown",
   "id": "06d7a0c1",
   "metadata": {},
   "source": [
    ":::{admonition} **Proof**\n",
    "\n",
    "By the Frenchel inequality,\n",
    "\n",
    "\\begin{align}\n",
    "F[r] &\\geq \\sup_{s\\in \\mc{L}^{\\infty}_{\\R{Z}'}} \\langle r,s \\rangle_{\\R{Z}'} - F^*[s],\n",
    "\\end{align}\n",
    "\n",
    "which holds with equality if $\\mc{R}$ is convex. Furthermore, $F[r]$ evaluates to the $f$-Divergence at any $r$ in $\\left[\\frac{dP_{\\R{Z}}}{dP_{\\R{Z}'}}\\right]_{\\R{Z}'}\\cap \\mc{R}$, if the intersection is non-empty. The bound for every $s$ is non-increasing in $\\mc{R}$ because $F^*[s]$ is non-decreasing in $\\mc{R}$.\n",
    "\n",
    ":::"
   ]
  },
  {
   "cell_type": "markdown",
   "id": "1a1fffcb",
   "metadata": {},
   "source": [
    ":::{admonition} **Example**\n",
    "\n",
    "The KL-divergence \n",
    "\n",
    "\\begin{align}\n",
    "D_f(P_{\\R{Z}}\\|P_{\\R{Z}'})&= \\sup_{s\\in \\mc{L}^{\\infty}_{\\R{Z}'}} \\underbrace{E[s(\\R{Z})] - \\log E[e^{s(\\R{Z}')}]}_{\\geq}\\\\\n",
    "&= \\sup_{s\\in \\mc{L}^{\\infty}_{\\R{Z}'}} \\overbrace{E[s(\\R{Z})] - e^{-1}E[s(\\R{Z}')]},\n",
    "\\end{align}\n",
    "\n",
    "where the expressions are obtained from the DV formula with $\\mc{R} = \\mc{R}_{\\R{Z}'}$ and $\\mc{R}=\\mc{L}^{\\infty}_{\\R{Z}'}$ respectively.\n",
    "\n",
    ":::"
   ]
  },
  {
   "cell_type": "markdown",
   "id": "6cc2b694",
   "metadata": {},
   "source": [
    ":::{important}\n",
    "\n",
    "- How to recover a density ratio $\\tfrac{dP_{\\R{Z}}}{dP_{\\R{Z}'}}$ from an optimal $s$ to the DV formula?\n",
    "- Is it meaningful to consider $\\mc{R}$ that does not overlap with $\\left[\\tfrac{dP_{\\R{Z}}}{dP_{\\R{Z}'}}\\right]_{\\R{Z}'}$?\n",
    "\n",
    ":::"
   ]
  },
  {
   "cell_type": "markdown",
   "id": "6de2122d",
   "metadata": {},
   "source": [
    "### Reproducing Kernel Hilbert Space"
   ]
  },
  {
   "cell_type": "markdown",
   "id": "50033ef1",
   "metadata": {},
   "source": [
    "Given a field $Z$, a positive type function $K\\in (-\\infty, \\infty)^{Z^2}$ is a reproducing kernel, which induces a reproducing kernel Hilbert space (RKHS) $\\mc{H}_K\\subseteq (-\\infty, \\infty)^{Z}$ with inner product $\\langle\\cdot ,\\cdot\\rangle_K$ (and norm $\\norm{\\cdot}^2_K$) satisfying the reproducing property that, for all $z\\in Z$ and $t\\in \\mc{H}_K$,\n",
    "\n",
    "\\begin{align}\n",
    "\\overbrace{K(\\cdot, z)}^{K_z :=} &\\in \\mc{H}_K\\\\\n",
    "\\langle t, K_z\\rangle_K &= t(z).\n",
    "\\end{align}\n",
    "\n",
    "$K_z$ is called the $z$-point evaluation embedding. It is the unique element in $\\mc{H}$ such that $t\\in \\mc{H}_K\\mapsto \\langle t, K_z\\rangle_K$ gives the point evaluation function $t\\in \\mc{H}_K \\mapsto s(z)$ at $z$. The mapping from $z\\in Z$ to $K_z$ is called the canonical feature map."
   ]
  },
  {
   "cell_type": "markdown",
   "id": "b5d4acf1",
   "metadata": {},
   "source": [
    "For any $\\R{Z}'$ with $Z\\supseteq \\Omega_{\\R{Z}'}$, the restriction of $\\mc{H}_K$ to $\\R{Z}'$ is\n",
    "\n",
    "\\begin{align}\n",
    "\\mc{H}_K|_{\\R{Z}'} &:=\\Set{\\left.t|_{\\Omega_{\\R{Z}'}}\\right|t\\in \\mc{H}_K }&& \\text{where}\\\\\n",
    "t|_{\\Omega_{\\R{Z}'}} &: z\\in \\Omega_{\\R{Z}'} \\mapsto t(z),\n",
    "\\end{align}\n",
    "\n",
    "which is the function $t$ restricted to the domain $\\Omega_{\\R{Z}'}$."
   ]
  },
  {
   "cell_type": "markdown",
   "id": "cee5b50b",
   "metadata": {},
   "source": [
    "If $\\mc{H}_K|_{\\R{Z}'} \\subseteq \\mc{L}^{\\infty}_{\\R{Z}'}$, we define for any functional $M\\in (-\\infty, \\infty]^{\\mc{H}_K}$,\n",
    "\n",
    "\\begin{align}\n",
    "M|_{\\R{Z}'}[s]&:= \\inf_{\\substack{t\\in \\mc{H}_K:\\\\ t|_{\\Omega_{\\R{Z}'}}= s}} M[t]\n",
    "\\end{align}\n",
    "\n",
    "for all $s\\in \\mc{L}^\\infty_{\\R{Z}'}$."
   ]
  },
  {
   "cell_type": "markdown",
   "id": "bf1bdd1d-e759-4ca0-86e9-dfe7b7b28b1f",
   "metadata": {},
   "source": [
    ":::{admonition} **Proposition**\n",
    "\n",
    "For any $\\R{Z}'$ and reproducing kernel $K\\in (-\\infty,\\infty)^{Z^2}$ with $\\Omega_{\\R{Z}'}\\subseteq Z$, we have  $\\mc{H}_K|_{\\R{Z}'} \\subseteq \\mc{L}^\\infty_{\\R{Z}'}$ iff \n",
    "\n",
    "\\begin{align}\n",
    "E[K(\\R{Z}', \\R{Z}')] < \\infty.\n",
    "\\end{align}\n",
    "\n",
    ":::"
   ]
  },
  {
   "cell_type": "markdown",
   "id": "43c1265b-b77a-483b-8c99-da41277b7bae",
   "metadata": {},
   "source": [
    ":::{admonition} **Proof**\n",
    "\n",
    "By the reproducing property, the condition $\\mc{H}_K|_{\\R{Z}'} \\subseteq \\mc{L}^{\\infty}_{\\R{Z}'}$ is equivalent to\n",
    "\n",
    "\\begin{align}\n",
    "K_z|_{\\Omega_{\\R{Z}'}} &\\in \\mc{L}^{\\infty}_{\\R{Z}'}&& \\forall z\\in Z,\n",
    "\\end{align}\n",
    "\n",
    "which happens iff\n",
    "\n",
    "\\begin{align}\n",
    "1&=P\\left[\\sup_{z\\in Z} K_z|_{\\Omega_{\\R{Z}'}}({\\R{Z}'})< \\infty\\right] \\\\\n",
    "&= P\\bigg[\\sup_{z\\in Z} \\underbrace{K_z({\\R{Z}'})}_{\n",
    "\\begin{aligned}\n",
    "&\\langle K_z, K_{\\R{Z}'}\\rangle_K\\\\\n",
    "&\\leq \\norm{K_{\\R{Z}'}}^2_K\n",
    "\\end{aligned}}< \\infty\\bigg]\\\\\n",
    "&= P[K(\\R{Z}', \\R{Z}')<\\infty],\n",
    "\\end{align}\n",
    "\n",
    "which holds iff $E[K(\\R{Z}', \\R{Z}')]<\\infty$ as desired.\n",
    "\n",
    "\n",
    ":::"
   ]
  },
  {
   "cell_type": "markdown",
   "id": "72179717",
   "metadata": {},
   "source": [
    "### Correlation Embedding"
   ]
  },
  {
   "cell_type": "markdown",
   "id": "884a9003",
   "metadata": {},
   "source": [
    "By the Riesz representation theorem, each bounded linear functional on an RKHS has a unique embedding in the RKHS. An example is the correlation embedding defined below."
   ]
  },
  {
   "cell_type": "markdown",
   "id": "73115ac8",
   "metadata": {},
   "source": [
    ":::{admonition} **Definition** (Correlation map)\n",
    "\n",
    "For some reproducing kernel $K\\subseteq (-\\infty, \\infty)^{Z^2}$ and $\\R{Z}'$ such that $\\mc{H}_K|_{\\R{Z}'} \\subseteq \\mc{L}^{\\infty}_{\\R{Z}'}$, define for all \n",
    "\n",
    "\\begin{align}\n",
    " \\mu_{\\R{Z}'}[r](z)&:=\\langle r, K_z|_{\\Omega_{\\R{Z}'}} \\rangle_{\\R{Z}'}\\\\\n",
    " &= E[r(\\R{Z}')K_{\\R{Z}'}(z)]\n",
    "\\end{align}\n",
    "\n",
    "for all $r\\in \\mc{L}^1_{\\R{Z}'}$ and $z\\in Z$.\n",
    "\n",
    ":::"
   ]
  },
  {
   "cell_type": "markdown",
   "id": "cfa1fad7",
   "metadata": {},
   "source": [
    "The following result, which is stated in a way analogous to the reproducing property, shows that $\\mu_{\\R{Z}'}[r]$ is the $r$-correlation embedding with respect to the measure $P_{\\R{Z}'}$, and $\\mu_{\\R{Z}'}$ is the correlation map."
   ]
  },
  {
   "cell_type": "markdown",
   "id": "774f886c",
   "metadata": {},
   "source": [
    ":::{admonition} **Proposition**\n",
    "\n",
    "Suppose $\\mc{H}_K|_{\\R{Z}'} \\subseteq \\mc{L}^{\\infty}_{\\R{Z}'}$ for some $\\R{Z}'$ and reproducing kernel $K$. For all $r\\in \\mc{L}^1_{\\R{Z}'}$ and $t\\in \\mc{H}_K$, \n",
    "\n",
    "\\begin{align}\n",
    "\\mu_{\\R{Z}'}[r] &\\in \\mc{H}_K \\\\\n",
    "\\langle t, \\mu_{\\R{Z}'}[r]\\rangle_K &= \\langle r, t|_{\\Omega_{\\R{Z}'}}\\rangle_{\\R{Z}'}\\\\\n",
    "&=E[r(\\R{Z}')t(\\R{Z}')].\n",
    "\\end{align}\n",
    "\n",
    ":::"
   ]
  },
  {
   "cell_type": "markdown",
   "id": "d59a3b0e",
   "metadata": {},
   "source": [
    ":::{admonition} **Proof**\n",
    "\n",
    "Recall that\n",
    "\n",
    "\\begin{align}\n",
    "\\mu_{\\R{Z}'}[r](z)&= \\langle r, K_z|_{\\Omega_{\\R{Z}'}} \\rangle_{\\R{Z}'},\n",
    "\\end{align}\n",
    "\n",
    "i.e., the dual pairing of $r$ with the $z$-point evaluation embedding restricted to $\\Omega_{\\R{Z}'}$. Since $K_z|_{\\Omega_{\\R{Z}'}}\\in  \\mc{L}^{\\infty}_{\\R{Z}'}$, the dual pairing is a bounded linear function of $r\\in \\mc{L}^1_{\\R{Z}'}$, and so $\\mu_{\\R{Z}'}[r]\\in \\mc{H}_K$ as desired. Furthermore,\n",
    "\n",
    "\\begin{align}\n",
    "\\langle t, \\mu_{\\R{Z}'}[r]\\rangle_K\n",
    "&=\\langle t, \\langle r, K_z\\rangle_{\\R{Z}'}\\rangle_K\\\\\n",
    "&=\\langle r, \\langle t, K_z\\rangle_K\\rangle_{\\R{Z}'} && \\text{by linearity}\\\\\n",
    "&=\\langle r, s \\rangle_{\\R{Z}'} && \\text{by the reproducing property},\n",
    "\\end{align}\n",
    "\n",
    "which gives $E[r(\\R{Z}')K_z(\\R{Z}')]$ by definition.\n",
    "\n",
    ":::"
   ]
  },
  {
   "cell_type": "markdown",
   "id": "dd1a2940",
   "metadata": {},
   "source": [
    "### Kernel-Based Formula"
   ]
  },
  {
   "cell_type": "markdown",
   "id": "64a22a06",
   "metadata": {},
   "source": [
    "A consequence of the Riesz representation theorem is that, for any reproducing kernel $K$, $(\\mc{H}_K, \\mc{H}_K, \\langle \\cdot, \\cdot \\rangle_K)$ forms a dual system. Hence, the convex conjugate of any functional $M\\in (-\\infty, \\infty]^{\\mc{H}_K}$ can be written as\n",
    "\n",
    "\\begin{align}\n",
    "M^*[u] := \\sup_{t\\in \\mc{H}_K}\\langle t, u\\rangle_K - M[t]\n",
    "\\end{align}\n",
    "\n",
    "for all $u\\in \\mc{H}_K$."
   ]
  },
  {
   "cell_type": "markdown",
   "id": "ff9c1617",
   "metadata": {},
   "source": [
    ":::{admonition} **Lemma**\n",
    "\n",
    "Suppose $\\mc{H}_K|_{\\R{Z}'} \\subseteq \\mc{L}^{\\infty}_{\\R{Z}'}$ for some $\\R{Z}'$ and reproducing kernel $K$. For all $M\\in (-\\infty, \\infty]^{\\mc{H}_K}$ and $G\\in (-\\infty, \\infty]^{\\mc{L}^{\\infty}_{\\R{Z}'}}$,\n",
    "\n",
    "\\begin{align}\n",
    "M|_{\\R{Z}'}^*[r]& =  M^*[\\mu_{\\R{Z}'}[r]]\\\\\n",
    "[G + M|_{\\R{Z}'}]^*[r'] & = \\inf_{r\\in \\mc{L}^1_{\\R{Z}'}} G^*[r] +  M^*[\\mu_{\\R{Z}'}[r'-r]]\n",
    "\\end{align}\n",
    "\n",
    "for all $r'\\in \\mc{L}^1_{\\R{Z}'}$.\n",
    "\n",
    ":::"
   ]
  },
  {
   "cell_type": "markdown",
   "id": "5df74d72",
   "metadata": {},
   "source": [
    ":::{admonition} **Proof**\n",
    "\n",
    "To show the first equality:\n",
    "\n",
    "\\begin{align}\n",
    "M|_{\\R{Z}'}^*[r]& = \\sup_{s\\in \\mc{L}^\\infty_{\\R{Z}'}} \\langle r, s \\rangle_{\\R{Z}'} - \\underbrace{M|_{\\R{Z}'}[s]}_{\\inf_{\\substack{t\\in \\mc{H}_K:\\\\ t|_{\\Omega_{\\R{Z}'}}= s}} M[t]}\\\\\n",
    "&= \\sup_{t\\in \\mc{H}_K} \\sup_{\\substack{s\\in \\mc{L}^\\infty_{\\R{Z}'}:\\\\ t|_{\\Omega_{\\R{Z}'}}= s}} \\langle r, s \\rangle_{\\R{Z}'} - M[t]\\\\\n",
    "&= \\sup_{t\\in \\mc{H}_K} \\underbrace{\\langle r, t|_{\\Omega_{\\R{Z}'}} \\rangle_{\\R{Z}'}}_{\\langle t, \\mu_{\\R{Z}'}[r]\\rangle_K} - M[t]\\\\\n",
    "&= M^*[\\mu_{\\R{Z}'}[r]].\n",
    "\\end{align}\n",
    "\n",
    "By the infimal convolution theorem,\n",
    "\n",
    "\\begin{align}\n",
    "[G+M|_{\\R{Z}'}]^*[r']\n",
    "&= [G^*\\square M|_{\\R{Z}'}^*][r']\\\\\n",
    "&= \\inf_{r\\in \\mc{L}^1_{\\R{Z}'}} G^*[r] + \\underbrace{M|_{\\R{Z}'}^*[r'-r]}_{M^*[\\mu_{\\R{Z}'}[r'-r]]}.\n",
    "\\end{align}\n",
    "\n",
    ":::"
   ]
  },
  {
   "cell_type": "markdown",
   "id": "0457e256",
   "metadata": {},
   "source": [
    ":::{admonition} **Example**\n",
    "\n",
    "Consider for some $\\lambda>0$,\n",
    "\n",
    "\\begin{align}\n",
    "M[t]&:=\\frac1{4\\lambda} \\norm{t}^2_K \\\\\n",
    "&\\xrightarrow{\\lambda\\to \\infty} 0.\n",
    "\\end{align}\n",
    "\n",
    "Then,\n",
    "\n",
    "\\begin{align}\n",
    "M^*[u] \n",
    "&:= \\sup_{t\\in \\mc{H}_K} \\langle t, u\\rangle_K - \\underbrace{M[t]}_{\\frac1{4\\lambda} \\norm{t}^2_K}\\\\\n",
    "&=  \\sup_{t\\in \\mc{H}_K} \\frac{1}{4\\lambda}\\big(\\norm{2\\lambda u}_K  - \\underbrace{\\norm{t-2\\lambda u}_K}_{\\mathrlap{\\text{$\\geq 0$ with equality iff $t=2\\lambda u$}}} \\big) \\\\\n",
    "&= \\lambda\\norm{u}^2_K\\\\\n",
    "&\\xrightarrow{\\lambda\\to \\infty} \\delta_{\\Set{0}}[u].\n",
    "\\end{align}\n",
    "\n",
    "By the above Lemma,\n",
    "\n",
    "\\begin{align}\n",
    "M|_{\\R{Z}'}^*[r]& =  M^*[\\mu_{\\R{Z}'}[r]]\\\\\n",
    "&= \\lambda\\norm{\\mu_{\\R{Z}'}[r]}^2_K\\\\\n",
    "&\\xrightarrow{\\lambda\\to \\infty} \\delta_{\\Set{0}}[\\mu_{\\R{Z}'}[r]]\\\\\n",
    "[G + M|_{\\R{Z}'}]^*[r'] & = \\inf_{r\\in \\mc{L}^1_{\\R{Z}'}} G^*[r] +  M^*[\\mu_{\\R{Z}'}[r'-r]]\\\\\n",
    "&=\\inf_{r\\in \\mc{L}^1_{\\R{Z}'}} G^*[r] +  \\lambda\\norm{\\mu_{\\R{Z}'}[r'-r]}^2_K\\\\\n",
    "&\\xrightarrow{\\lambda\\to \\infty} \\inf_{\\substack{r\\in \\mc{L}^1_{\\R{Z}'}:\\\\ \\mu_{\\R{Z}'}[r']=\\mu_{\\R{Z}'}[r]}} G^*[r].\n",
    "\\end{align}\n",
    "\n",
    "\n",
    ":::"
   ]
  },
  {
   "cell_type": "markdown",
   "id": "d9064c2f",
   "metadata": {},
   "source": [
    "Restricting the functional in the DV lower bound to a RKHS, we obtain an alternative variational formula:"
   ]
  },
  {
   "cell_type": "markdown",
   "id": "8354769b",
   "metadata": {},
   "source": [
    ":::{admonition} **Theorem** (Kernel-based formula for $f$-divergence)\n",
    "\n",
    "For $P_{\\R{Z}}\\ll P_{\\R{Z}'}$, a function $f\\in {(-\\infty,\\infty]}^{[0,\\infty)}$ strictly convex with $f(1)=0$, and a reproducing kernel $K\\subseteq (-\\infty, \\infty)^{Z^2}$ such that $\\mc{H}_K|_{\\R{Z}'} \\subseteq \\mc{L}^{\\infty}_{\\R{Z}'}$,\n",
    "\n",
    "\\begin{align}\n",
    "D_f(P_{\\R{Z}}\\|P_{\\R{Z}'})&\\geq \\sup_{\\lambda>0} \\underbrace{\\sup_{t\\in \\mc{H}_K} E[t(\\R{Z})] - F^*[t|_{\\Omega_{\\R{Z}'}}] - \\frac1{4\\lambda} \\norm{t}^2_K}_{\\alpha(\\lambda):=}\\\\\n",
    "&= \\sup_{\\lambda>0} \\overbrace{\\inf_{r\\in \\mc{R}} E\\left[(f(r(\\R{Z})) \\right] + \\lambda\\norm{E[K_{\\R{Z}}]-\\mu_{\\R{Z}'}[r]}^2_K}^{\\beta(\\lambda):=}\\\\\n",
    "&= \\inf_{\\substack{r\\in \\mc{R}:\\\\ \\mu_{\\R{Z}'}[r]=E[K_{\\R{Z}}]}} E\\left[(f(r(\\R{Z})) \\right]\n",
    "\\end{align}\n",
    "\n",
    "where\n",
    "\n",
    "\\begin{align}\n",
    "F[r]&:=E\\left[(f(r(\\R{Z})) \\right] + \\delta_{\\mc{R}}[r]\n",
    "\\end{align}\n",
    "\n",
    "for any $\\mc{R}\\subseteq \\mc{L}^1_{\\R{Z}'}$. Furthermore, $\\alpha=\\beta$ and the bounds are non-increasing in $\\mc{R}$ and non-decreasing in $\\lambda$ and $\\mc{H}$. It is tight if $\\mc{R}$ is a convex set, such as $\\mc{R}_{\\R{Z}'}$, that intersects $\\left[\\tfrac{dP_{\\R{Z}}}{dP_{\\R{Z}'}}\\right]_{\\R{Z}'}$, and \n",
    "\n",
    "\\begin{align}\n",
    "\\operatorname{Ker}(\\langle \\cdot, \\mc{H}|_{\\R{Z}'} \\rangle_{\\R{Z'}}) \\cap \\left(\\mc{R}-\\left[\\tfrac{dP_{\\R{Z}}}{dP_{\\R{Z}'}}\\right]_{\\R{Z}'}\\right) \\subseteq [0]_{\\R{Z}'},\n",
    "\\end{align}\n",
    "\n",
    "in which case $r\\in \\mc{R}$ and $\\mu_{\\R{Z}'}[r]=E[K_{\\R{Z}}]$ implies $r\\in \\left[\\tfrac{dP_{\\R{Z}}}{dP_{\\R{Z}'}}\\right]_{\\R{Z}'}$.\n",
    "\n",
    ":::"
   ]
  },
  {
   "cell_type": "markdown",
   "id": "ce1a81b8",
   "metadata": {},
   "source": [
    ":::{admonition} **Proof**\n",
    "\n",
    "Consider any $r' \\in\\left[\\tfrac{dP_{\\R{Z}}}{dP_{\\R{Z}'}}\\right]_{\\R{Z}'}$.\n",
    "\n",
    "\\begin{align}\n",
    "\\alpha(\\lambda)&=\\sup_{t\\in \\mc{H}_K} E[t(\\R{Z})] - F^*[t|_{\\Omega_{\\R{Z}'}}] - \\overbrace{\\frac1{4\\lambda} \\norm{t}^2_K}^{M[t]:=}\\\\\n",
    "&=\\sup_{s\\in \\mc{L}^\\infty_{\\R{Z}'}} \\sup_{\\substack{t\\in \\mc{H}_K:\\\\ t|_{\\Omega_{\\R{Z}'}}=s}} \\underbrace{E[t(\\R{Z})]}_{\\mathrlap{\\begin{aligned}&=E[s(\\R{Z})]\\\\&= \\left\\langle r', s(\\R{Z}) \\right\\rangle_{\\R{Z}'}\\end{aligned}}} - F^*[\\underbrace{t|_{\\Omega_{\\R{Z}'}}}_{s}] - \\frac1{4\\lambda} \\norm{t}^2_K\\\\\n",
    "&=\\sup_{s\\in \\mc{L}^\\infty_{\\R{Z}'}} \\left\\langle r', s(\\R{Z}) \\right\\rangle_{\\R{Z}'} - F^*[s] - \\underbrace{\\inf_{\\substack{t\\in \\mc{H}_K:\\\\ t|_{\\Omega_{\\R{Z}'}}=s}}\\frac1{4\\lambda} \\norm{t}^2_K}_{M|_{\\R{Z}'}[s]}\\\\\n",
    "&=\\sup_{s\\in \\mc{L}^\\infty_{\\R{Z}'}} \\left\\langle r', s(\\R{Z}) \\right\\rangle_{\\R{Z}'} - (F^*+M|_{\\R{Z}'})[s]\\\\\n",
    "&=[F^*+M|_{\\R{Z}'}]^*[r']\n",
    "\\end{align}\n",
    "\n",
    "By the above Lemma and example, \n",
    "\n",
    "\\begin{align}\n",
    "\\alpha(\\lambda)\n",
    "%&=[F^*+M|_{\\R{Z}'}]^*[r']\\\\\n",
    "%&= [F\\square M|_{\\R{Z}'}^*][r']\\\\\n",
    "&= \\inf_{r\\in \\mc{L}^1_{\\R{Z}'}} \\underbrace{F[r]}_{E[f(r(\\R{Z}))] + \\delta_{\\mc{R}}[r]} + \\underbrace{M|_{\\R{Z}'}^*[r'-r]}_{M^*[\\underbrace{\\mu_{\\R{Z}'}[r'-r]}_{\\underbrace{\\mu_{\\R{Z}'}[r']}_{E[K_{\\R{Z}}]}-\\mu_{\\R{Z}'}[r]}]}\\\\\n",
    "&= \\inf_{r\\in \\mc{L}^1_{\\R{Z}'}} E[f(r(\\R{Z}))] + \\delta_{\\mc{R}}[r] + M^*[E[K_{\\R{Z}}]-\\mu_{\\R{Z}'}[r]]\\\\\n",
    "&= \\inf_{r\\in \\mc{R}} E[f(r(\\R{Z}))]  + \\underbrace{M^*[E[K_{\\R{Z}}]-\\mu_{\\R{Z}'}[r]]}_{\\lambda \\norm{E[K_{\\R{Z}}]-\\mu_{\\R{Z}'}[r]}^2_K}\\\\\n",
    "&= \\beta(\\lambda).\n",
    "\\end{align}\n",
    "\n",
    "The bound is maximized with $\\lambda\\to \\infty$, which gives\n",
    "\n",
    "\\begin{align}\n",
    "\\sup_{\\lambda >0} \\beta(\\lambda)=\\limsup_{\\lambda\\to \\infty}\\beta(\\lambda)\n",
    "%&= \\inf_{r\\in \\mc{R}} E[f(r(\\R{Z}))] + \\sup_{\\lambda >0} \\lambda \\norm*{E[K_{\\R{Z}}]-\\mu_{\\R{Z}'}[r]}_K\\\\\n",
    "&= \\inf_{\\substack{r\\in \\mc{R}:\\\\ \\mu_{\\R{Z}'}[r]=E[K_{\\R{Z}}]}} E\\left[(f(r(\\R{Z})) \\right]\n",
    "\\end{align}\n",
    "\n",
    "as desired. The bound is tight if $r\\in \\mc{R}$ and $\\mu_{\\R{Z}'}[r]=E[K_{\\R{Z}}]$ imply $r\\in \\left[\\tfrac{dP_{\\R{Z}}}{dP_{\\R{Z}'}}\\right]_{\\R{Z}'}$. The desired equality condition follows because\n",
    "\n",
    "\\begin{align}\n",
    "r\\in \\mc{R} &\\iff r-r' \\in \\mc{R}-\\Set{\\tfrac{dP_{\\R{Z}}}{dP_{\\R{Z}'}}}\\\\\n",
    "\\mu_{\\R{Z}'}[r]=E[K_{\\R{Z}}] &\\iff r-r'\\in \\operatorname{Ker}(\\langle \\cdot, \\mc{H}|_{\\R{Z}'} \\rangle_{\\R{Z'}}) \\\\\n",
    "r\\in \\left[\\tfrac{dP_{\\R{Z}}}{dP_{\\R{Z}'}}\\right]_{\\R{Z}'} &\\iff r-r'\\in \\left[0\\right]_{\\R{Z}'}.\n",
    "\\end{align}\n",
    "\n",
    ":::"
   ]
  },
  {
   "cell_type": "markdown",
   "id": "96100c37",
   "metadata": {},
   "source": [
    ":::{important}\n",
    "\n",
    "- How to train a neural network to return $t\\in \\mc{H}_K$? E.g.,\n",
    "\n",
    "    \\begin{align}\n",
    "    t_\\theta(z):=\\sum_{i=1}^n a_i K_{z_i}(z)\n",
    "    \\end{align}\n",
    "    \n",
    "    where $\\theta:=(a^n, z^n)$.\n",
    "    \n",
    "- How to train a neural network to return $r\\in \\mc{R}_{\\R{Z}'}$? E.g.,\n",
    "\n",
    "    \\begin{align}\n",
    "    r_\\theta(z):= \\frac{e^{u_{\\theta}(z)}}{E[e^{u_{\\theta}(\\R{Z}')}]}.\n",
    "    \\end{align}\n",
    "    \n",
    "- Can the kernel method mitigate overfitting in sample estimates?\n",
    "\n",
    ":::"
   ]
  }
 ],
 "metadata": {
  "kernelspec": {
   "display_name": "Python (Pyodide)",
   "language": "python",
   "name": "python"
  },
  "language_info": {
   "codemirror_mode": {
    "name": "ipython",
    "version": 3
   },
   "file_extension": ".py",
   "mimetype": "text/x-python",
   "name": "python",
   "nbconvert_exporter": "python",
   "pygments_lexer": "ipython3",
   "version": "3.10.8"
  },
  "widgets": {
   "application/vnd.jupyter.widget-state+json": {
    "state": {},
    "version_major": 2,
    "version_minor": 0
   }
  }
 },
 "nbformat": 4,
 "nbformat_minor": 5
}
