{
 "cells": [
  {
   "cell_type": "markdown",
   "id": "e85f5206-d8b1-4a44-a8be-3d5527516aec",
   "metadata": {},
   "source": [
    "## Background"
   ]
  },
  {
   "cell_type": "markdown",
   "id": "e5c0b60b-942e-4d16-96d9-3e6365d03b65",
   "metadata": {},
   "source": [
    "### Probability measure"
   ]
  },
  {
   "cell_type": "markdown",
   "id": "71a7ff7e-1acc-425a-ae2b-e94daf973716",
   "metadata": {},
   "source": [
    "Consider a probability space $(\\Omega, \\mc{E}, P)$ where\n",
    "- the set $\\Omega$ is the sample space,\n",
    "- the sigma algebra $\\mc{E}\\subseteq 2^{\\Omega}$ is the collection of events, and\n",
    "- the countably additive function $P\\in [0,1]^{\\mc{E}}$ is the probability measures."
   ]
  },
  {
   "cell_type": "markdown",
   "id": "bd489df4-cb56-4d58-aa3a-634ae0eda267",
   "metadata": {},
   "source": [
    "To consider another probability measure similar to $P$, we simply write $Q\\sim P$ to denote another countably additive function $Q$ having the same domain and range as $P$."
   ]
  },
  {
   "cell_type": "markdown",
   "id": "7130a007-63fe-432a-a0ac-5dbcdf46ba89",
   "metadata": {},
   "source": [
    "### Random variable"
   ]
  },
  {
   "cell_type": "markdown",
   "id": "be947bb8-dba1-4218-bba6-57cb79f8f70a",
   "metadata": {},
   "source": [
    "A measurable function $\\R{Z}\\in (\\Omega_{\\R{Z}}, \\mc{E}_{\\R{Z}})^{(\\Omega, \\mc{E})}$ is a random variable, which induces a probability space $(\\Omega_{\\R{Z}}, \\mc{E}_{\\R{Z}}, Q_{\\R{Z}})$ where $Q_{\\R{Z}}:=Q\\circ \\R{Z}$, for any $Q\\sim P$.\n",
    "\n",
    ":::{note}\n",
    "\n",
    "$P=P_{\\R{I}}$ for the identity map $\\R{I}$.\n",
    "\n",
    ":::"
   ]
  },
  {
   "cell_type": "markdown",
   "id": "ea0c2568-32dd-450e-93a8-6b47b5477b00",
   "metadata": {},
   "source": [
    "To consider another random variable similar to $\\R{Z}$, we simply write $\\R{Z}'\\sim \\R{Z}$ to denote another measureable function $\\R{Z}'$ having the same domain and range as $\\R{Z}$. \n",
    "\n",
    "To specify the distribution of a random variable, we write\n",
    "\n",
    "- $\\R{Z}\\sim Q_{\\R{Z}}$ to mean $P_{\\R{Z}}=Q_{\\R{Z}}$ for any $Q\\sim P$, and\n",
    "- $\\R{Z}'\\sim P_{\\R{Z}}$ to mean $P_{\\R{Z}'}=P_{\\R{Z}}$ for $\\R{Z}'\\sim \\R{Z}$. \n",
    "\n",
    ":::{note}\n",
    "\n",
    "To avoid ambiguity, random variables are denoted by upright capital letters.\n",
    "\n",
    ":::"
   ]
  },
  {
   "cell_type": "markdown",
   "id": "395a9123-2692-4e86-a3ca-2609cfef9dcb",
   "metadata": {},
   "source": [
    "### Mean"
   ]
  },
  {
   "cell_type": "markdown",
   "id": "0753cccc-de5e-4ebd-86ee-00e1653498d0",
   "metadata": {},
   "source": [
    "For any random variable $\\R{Z}$ that maps to a topological vector space, its expectation (mean) with respect to $Q\\sim P$ is the Lebesgue integral\n",
    "\\begin{align}\n",
    "E_Q[f(\\R{Z})]&:=\\int \\R{Z} \\,dQ \\\\\n",
    "&= \\int_{\\mathrlap{z\\in \\Omega_{\\R{Z}}}} \\;z \\,dQ_{\\R{Z}}(z)\n",
    "\\end{align}\n",
    "\n",
    "where the first integral can be written explicitly as the integral $\\int_{\\Omega} \\R{Z} \\,dQ$ over the entire sample space $\\Omega$ for $Q$, and the second integral can be written implicitly as the integral $\\int \\operatorname{id}_{\\Omega_{\\R{Z}}} \\,dQ_{\\R{Z}}$ of the identity function $\\operatorname{id}_{\\Omega_{\\R{Z}}}$ over the sample space $\\Omega_{\\R{Z}}$ of $\\R{Z}$.\n",
    "\n",
    "$E[\\R{Z}]:=E_P[\\R{Z}]$ is the expectation (with respect to the default probability measure $P$)."
   ]
  },
  {
   "cell_type": "markdown",
   "id": "aa434134-048d-458c-9a31-6c63e6e0adb2",
   "metadata": {
    "tags": []
   },
   "source": [
    "### $f$-Divergence"
   ]
  },
  {
   "cell_type": "markdown",
   "id": "f6a5975d-b755-4da6-8e01-9c174eb8f344",
   "metadata": {},
   "source": [
    "The set of density ratios w.r.t. $\\R{Z}'$ is defined as\n",
    "\n",
    "\\begin{align}\n",
    "\\mc{R}_{\\R{Z}'}&:=\\Set{\\left.r\\in {[0,\\infty)}^{\\Omega_{\\R{Z}'}} \\right| E[r(\\R{Z}')]=1}.\n",
    "\\end{align}\n",
    "\n",
    "By the Radon-Nikodym Theorem, if $P_{\\R{Z}}$ is absolutely continuous with respect to $P_{\\R{Z}'}$, denoted as $P_{\\R{Z}} \\ll P_{\\R{Z}'}$, then\n",
    "\n",
    "\\begin{align}\n",
    "P_{\\R{Z}}(A)=\\int_A r\\,dP_{\\R{Z}'} \\quad \\forall A\\in \\mc{E}_{\\R{Z}'}\n",
    "\\end{align}\n",
    "\n",
    "for some $r\\in \\mc{R}_{\\R{Z}'}$ unique up to a $P_{\\R{Z}'}$-null set. Such a density ratio of $P_{\\R{Z}}$ with respect to $P_{\\R{Z}'}$ is denoted as $\\frac{dP_{\\R{Z}}}{dP_{\\R{Z}'}}$."
   ]
  },
  {
   "cell_type": "markdown",
   "id": "c9b27751-16a7-458a-b308-6e13a1df06d4",
   "metadata": {},
   "source": [
    "For a function $f\\in {(-\\infty,\\infty]}^{[0,\\infty)}$ strictly convex with $f(1)=0$, the $f$-divergence from $P_{\\R{Z}}$ to $P_{\\R{Z}'}\\gg P_{\\R{Z}}$ is defined as\n",
    "\n",
    "\\begin{align}\n",
    "D_f(P_{\\R{Z}} \\| P_{\\R{Z}'}) \n",
    "&:=\n",
    "E\\left[f\\left(\\frac{dP_{\\R{Z}}}{dP_{\\R{Z}'}}(\\R{Z}')\\right)\\right]\n",
    "\\end{align}"
   ]
  },
  {
   "cell_type": "markdown",
   "id": "99eed8a0-2b9e-4b83-8ce3-d4974837a5ea",
   "metadata": {},
   "source": [
    "### Dual Pairing"
   ]
  },
  {
   "cell_type": "markdown",
   "id": "b8a51acb-b7a6-4c83-aef6-f30333172992",
   "metadata": {},
   "source": [
    "For a measurable function $f$ of $\\R{Z}'$, $[f]_{\\R{Z}'}$ denotes the class of measurable functions $g$ of $\\R{Z}'$ equivalent to $f$ up to a $P_{\\R{Z}'}$-null set, i.e., for $A\\in \\mc{E}_{\\R{Z}'}$,\n",
    "\n",
    "\\begin{align}\n",
    "P_{\\R{Z}'}(A) = 0 \\text{ or } \\forall z\\in A, f(z)=g(z).\n",
    "\\end{align}"
   ]
  },
  {
   "cell_type": "markdown",
   "id": "9c2dbe46-bf20-4052-ba3c-5311561c9ecd",
   "metadata": {},
   "source": [
    "Consider the dual system $(\\mc{L}^1_{\\R{Z}'}, \\mc{L}^\\infty_{\\R{Z}'}, \\langle \\cdot, \\cdot \\rangle_{\\R{Z}'})$ where \n",
    "\n",
    "- $\\mc{L}^p_{\\R{Z}'}$ is the $p$-Lebesgue space with respect to measure $P_{\\R{Z}'}$ where equality is up to a $P_{\\R{Z}'}$-null set, and\n",
    "- $\\langle \\cdot, \\cdot \\rangle_{\\R{Z}'}$ is the non-degenerate dual pairing where\n",
    "\n",
    "    \\begin{align}\n",
    "    \\langle r, s\\rangle_{\\R{Z}'}&:= E[r(\\R{Z}')s(\\R{Z}')]&& \\forall (r, s) \\in \\mc{L}^1_{\\R{Z}'}\\times \\mc{L}^\\infty_{\\R{Z}'},\n",
    "    \\end{align}\n",
    "    \n",
    "    namely, the correlation of $r$ and $s$ with respect to $P_{\\R{Z}'}$.\n",
    "\n",
    "\n",
    "\n",
    ":::{note}\n",
    "\n",
    "More explicitly:\n",
    "\n",
    "- $\\mc{L}^1_{\\R{Z}'}$ is the set of measureable functions $r$ of $\\R{Z}'$ with non-degenerate $1$-norm w.r.t. $P_{\\R{Z}'}$\n",
    "\n",
    "    \\begin{align}\n",
    "    \\norm{r}_{\\mc{L}^1_{\\R{Z}'}} := \\int \\abs{r}\\,dP_{\\R{Z}'}.\n",
    "    \\end{align}\n",
    "\n",
    "- $\\mc{L}^\\infty_{\\R{Z}'}$ is the set of measurable functions $s$ of $\\R{Z}'$ with non-degenerate $\\infty$-norm w.r.t. $P_{\\R{Z}'}$\n",
    "\n",
    "    \\begin{align}\n",
    "    \\norm{s}_{\\mc{L}^\\infty_{\\R{Z}'}}:=\\inf\\Set{c\\geq 0 \\left| \\forall A\\in \\mc{E}_{\\R{Z}'},\\sup_{z\\in A} \\abs{s(z)} \\leq c \\text{ or } P_{\\R{Z}'}(A)=0\\right.},\n",
    "    \\end{align}\n",
    "    \n",
    "    which is the supremum up to a $P_{\\R{Z}'}$-null set.\n",
    "    \n",
    "Duality means\n",
    "\n",
    "- $r\\in \\mc{L}_{\\R{Z}'}^1$ and  $\\langle r, \\cdot \\rangle_{\\R{Z}'} = 0$ implies $r\\in [0]_{\\R{Z}'}$.\n",
    "- $s\\in \\mc{L}_{\\R{Z}'}^\\infty$ and  $\\langle \\cdot, s \\rangle_{\\R{Z}'} = 0$ implies $s \\in [0]_{\\R{Z}'}$.\n",
    "\n",
    ":::"
   ]
  },
  {
   "cell_type": "markdown",
   "id": "79c8a519-4dbc-4f02-aee7-785f1e8102e8",
   "metadata": {},
   "source": [
    "For any set $\\mc{R}\\subseteq \\mc{L}^1_{\\R{Z}'}$ and $\\mc{S}\\subseteq \\mc{L}^\\infty_{\\R{Z}'}$, consider the linear maps $\\langle \\mc{R}, \\cdot \\rangle_{\\R{Z}'}\\in ((-\\infty, \\infty)^{\\mc{R}})^{\\mc{L}^\\infty_{\\R{Z}'} }$ and $\\langle \\mc{S}, \\cdot \\rangle_{\\R{Z}'}\\in ((-\\infty, \\infty)^{\\mc{S}})^{\\mc{L}^1_{\\R{Z}'} }$ where\n",
    "\n",
    "\\begin{align}\n",
    "\\langle \\mc{R}, s \\rangle_{\\R{Z}'}[r]:= \\langle r, s\\rangle_{\\R{Z}'} && \\text{for $s\\in \\mc{L}^\\infty_{\\R{Z}'}$ and $r\\in \\mc{R}$}\\\\\n",
    "\\langle r, \\mc{S} \\rangle_{\\R{Z}'}[s]:= \\langle r, s\\rangle_{\\R{Z}'} && \\text{for $r\\in \\mc{L}^1_{\\R{Z}'}$ and $s\\in \\mc{S}$}.\n",
    "\\end{align}\n",
    "\n",
    "Their kernels are\n",
    "\n",
    "\\begin{align}\n",
    "\\operatorname{Ker}(\\langle \\mc{R}, \\cdot \\rangle_{\\R{Z'}}) &= \\Set{s\\in \\mc{L}^\\infty_{\\R{Z}'} |\\forall r\\in\\mc{R}, \\langle r,s \\rangle_{\\R{Z'}} = 0 }\\\\\n",
    "\\operatorname{Ker}(\\langle \\cdot, \\mc{S} \\rangle_{\\R{Z'}}) &= \\Set{r\\in \\mc{L}^1_{\\R{Z}'} |\\forall s\\in\\mc{S}, \\langle r,s \\rangle_{\\R{Z'}} = 0 }.\n",
    "\\end{align}\n",
    "\n",
    ":::{admonition} Example\n",
    "\n",
    "The duality of $\\mc{L}^1_{\\R{Z}'}$ and $ \\mc{L}^\\infty_{\\R{Z}'}$ means\n",
    "\n",
    "\\begin{align}\n",
    "\\operatorname{Ker}(\\langle \\mc{L}^1_{\\R{Z}'}, \\cdot \\rangle_{\\R{Z'}}) = \n",
    "\\operatorname{Ker}(\\langle \\cdot, \\mc{L}^\\infty_{\\R{Z}'} \\rangle_{\\R{Z'}}) = \\Set{[0]_{\\R{Z}'}}. \n",
    "\\end{align} \n",
    "\n",
    ":::"
   ]
  },
  {
   "cell_type": "markdown",
   "id": "919fdea9-0fb8-4dfe-a6f2-491818f4f3f5",
   "metadata": {},
   "source": [
    "### Convex Conjugate"
   ]
  },
  {
   "cell_type": "markdown",
   "id": "c11bb5b9-777f-49c6-9052-6ed5aeeaa379",
   "metadata": {},
   "source": [
    "Using the above dual pairing, the convex conjugate of $F\\in (-\\infty, \\infty]^{ \\mc{L}^1_{\\R{Z}'}}$ and $G \\in (-\\infty, \\infty]^{ \\mc{L}^\\infty_{\\R{Z}'}}$ are respectively\n",
    "\n",
    "\\begin{align}\n",
    "[F]^*_{\\mc{L}^1_{\\R{Z}'}}[s]&:= \\sup_{r\\in \\mc{L}^1_{\\R{Z}'}} \\langle r,s \\rangle_{\\R{Z}'} - F[r] && \\text{for } s\\in \\mc{L}^\\infty_{\\R{Z}'}\\\\\n",
    "[G]^*_{\\mc{L}^\\infty_{\\R{Z}'}}[r]&:= \\sup_{r\\in \\mc{L}^\\infty_{\\R{Z}'}} \\langle r,s \\rangle_{\\R{Z}'} - G[s] && \\text{for } r\\in \\mc{L}^1_{\\R{Z}'},\n",
    "\\end{align}\n",
    "\n",
    "which are convex functionals. For simplicity, we may simply write $F^*$ and $G^*$ as the convex conjugates if the parameter space for the supremum is clear from the context."
   ]
  },
  {
   "cell_type": "markdown",
   "id": "77e2ab18-887c-494f-b484-1bb5c269c4d5",
   "metadata": {},
   "source": [
    ":::{admonition} **Example**\n",
    "\n",
    "The characteristic function of a set $\\mc{R}$ is defined as\n",
    "\n",
    "\\begin{align}\n",
    "\\delta_{\\mc{R}}[r] &:=\n",
    "\\begin{cases}\n",
    "0 & r\\in \\mc{R}\\\\\n",
    "\\infty & \\text{otherwise},\n",
    "\\end{cases}\n",
    "\\end{align}\n",
    "\n",
    "which is convex iff $\\mc{R}$ is convex. For $\\mc{R}\\in \\mc{L}^1_{\\R{Z}'}$ and $\\mc{S}\\in \\mc{L}^\\infty_{\\R{Z}'}$\n",
    "\n",
    "\\begin{align}\n",
    "[\\delta_{\\mc{R}}]^*_{\\mc{L}^1_{\\R{Z}'}}[s]\n",
    "&:= \\sup_{r\\in \\mc{L}^1_{\\R{Z}'}} \\langle r,s \\rangle_{\\R{Z}'} - \\delta_{\\mc{R}}[r] && \\text{for $s\\in \\mc{L}^\\infty_{\\R{Z}'}$}\\\\\n",
    "&= \\sup_{r\\in \\mc{R}} \\langle r,s \\rangle_{\\R{Z}'}\\\\\n",
    "[\\delta_{\\mc{S}}]^*_{\\mc{L}^\\infty_{\\R{Z}'}}[r]\n",
    "&:= \\sup_{s\\in \\mc{L}^\\infty_{\\R{Z}'}} \\langle r,s \\rangle_{\\R{Z}'} - \\delta_{\\mc{S}}[s] && \\text{for $r\\in \\mc{L}^1_{\\R{Z}'}$}\\\\\n",
    "&= \\sup_{s\\in \\mc{S}} \\langle r,s \\rangle_{\\R{Z}'}.\n",
    "\\end{align}\n",
    "\n",
    ":::"
   ]
  },
  {
   "cell_type": "markdown",
   "id": "914d72fd-000d-43de-89ae-d01ddd130c10",
   "metadata": {},
   "source": [
    "By the Frenchel inequality,\n",
    "\n",
    "\\begin{align}\n",
    "F \\geq [[F]^*]^*,\n",
    "\\end{align}\n",
    "\n",
    "and equality holds if $F$ is convex, in which case the convex conjugation is an involution."
   ]
  },
  {
   "cell_type": "markdown",
   "id": "e7204933-5094-4e53-af32-b962853ebe05",
   "metadata": {},
   "source": [
    "### Infimal Convolution Theorem"
   ]
  },
  {
   "cell_type": "markdown",
   "id": "5565f2c2-2987-48d4-8f23-6dfd94afbe72",
   "metadata": {},
   "source": [
    "The infimal convolution $\\square$ of two functions $f_1,f_2\\in (-\\infty, \\infty]^X$ with the same domain $X$ is \n",
    "\n",
    "\\begin{align}\n",
    "(f_1 \\square f_2)(x')\n",
    "&:=\\inf_{\\substack{x_1, x_2\\in X:\\\\ x_1+x_2=x'}} f_1(x_1) + f_2(x_2)&& \\text{for $x'\\in X$}\\\\\n",
    "&=\\inf_{x\\in X} f_1(x) + f_2(x'-x).\n",
    "\\end{align}"
   ]
  },
  {
   "cell_type": "markdown",
   "id": "7b7cfaac-eb06-4a2b-bb27-3eb68135c919",
   "metadata": {},
   "source": [
    "By the infimal convolution theorem,\n",
    "\n",
    "\\begin{align}\n",
    "[F_1+F_2]^* &= F_1^* \\square F_2^*\\\\\n",
    "[F_1\\square F_2]^* &= F_1^*+F_2^*\n",
    "\\end{align}\n",
    "\n",
    "for $F_1, F_2$ from the same space of a dual system."
   ]
  },
  {
   "cell_type": "markdown",
   "id": "58d937e8-e4be-451a-97ef-c72d01a215b7",
   "metadata": {},
   "source": [
    ":::{admonition} **Example**\n",
    "\n",
    "For any set $r'\\in \\mc{L}^1_{\\R{Z}'} \\supseteq\\mc{R}\\subseteq $ and $s'\\in \\mc{L}^\\infty_{\\R{Z}'}\\supseteq \\mc{S}$, \n",
    "\n",
    "\\begin{align}\n",
    "[F + \\delta_{\\mc{R}}]^*[s'] \n",
    "&= \\inf_{s\\in \\mc{L}^\\infty_{\\R{Z}'}} F^*[s] + \\sup_{r\\in \\mc{R}} \\langle r,s'-s \\rangle_{\\R{Z}'}\\\\\n",
    "&= \\inf_{s'-s\\in \\operatorname{Ker}(\\langle \\mc{R}, \\cdot \\rangle)} F^*[s]\\\\\n",
    "[G + \\delta_{\\mc{S}}]^*[r'] \n",
    "&= \\inf_{s\\in \\mc{L}^\\infty_{\\R{Z}'}} G^*[r] + \\sup_{s\\in \\mc{S}} \\langle r'-r,s \\rangle_{\\R{Z}'}\\\\\n",
    "&= \\inf_{r'-r\\in \\operatorname{Ker}(\\langle \\cdot, \\mc{S} \\rangle)} G^*[r].\n",
    "\\end{align}\n",
    "\n",
    ":::"
   ]
  },
  {
   "cell_type": "markdown",
   "id": "7f79fd15-f173-481d-a066-fce3172d0ce3",
   "metadata": {},
   "source": [
    "### DV Formula"
   ]
  },
  {
   "cell_type": "markdown",
   "id": "2a1935ed-a813-4ddd-a0ac-793ba88f9d21",
   "metadata": {},
   "source": [
    "The Frenchel inequality gives the variational formula for $f$-divergence below:"
   ]
  },
  {
   "cell_type": "markdown",
   "id": "63e1544a-0790-492f-9622-640b4086f944",
   "metadata": {},
   "source": [
    ":::{admonition} **Theorem** (DV formula for $f$-divergence)\n",
    "\n",
    "For $P_{\\R{Z}}\\ll P_{\\R{Z}'}$ and a function $f\\in {(-\\infty,\\infty]}^{[0,\\infty)}$ strictly convex with $f(1)=0$, \n",
    "\n",
    "\\begin{align}\n",
    "D_f(P_{\\R{Z}}\\|P_{\\R{Z}'})&\\geq \\sup_{s\\in \\mc{L}^{\\infty}_{\\R{Z}'}} E[s(\\R{Z})] - F^*[s],\n",
    "\\end{align}\n",
    "\n",
    "where\n",
    "\n",
    "\\begin{align}\n",
    "F[r]&:=E\\left[f(r(\\R{Z})) \\right] + \\delta_{\\mc{R}}[r]\n",
    "\\end{align}\n",
    "\n",
    "for any $\\mc{R}\\subseteq \\mc{L}^1_{\\R{Z}'}$. The lower bound for every $s$ is non-increasing in $\\mc{R}$. It is tight if $\\mc{R}$ is a convex set, such as $\\mc{R}_{\\R{Z}'}$, that intersects $\\left[\\tfrac{dP_{\\R{Z}}}{dP_{\\R{Z}'}}\\right]_{\\R{Z}'}$. \n",
    "\n",
    ":::"
   ]
  },
  {
   "cell_type": "markdown",
   "id": "146bd742-8eaa-4581-a5bb-1258a4514165",
   "metadata": {},
   "source": [
    ":::{admonition} **Proof**\n",
    "\n",
    "By the Frenchel inequality,\n",
    "\n",
    "\\begin{align}\n",
    "F[r] &\\geq \\sup_{s\\in \\mc{L}^{\\infty}_{\\R{Z}'}} \\langle r,s \\rangle_{\\R{Z}'} - F^*[s],\n",
    "\\end{align}\n",
    "\n",
    "which holds with equality if $\\mc{R}$ is convex. Furthermore, $F[r]$ evaluates to the $f$-Divergence at any $r$ in $\\left[\\frac{dP_{\\R{Z}}}{dP_{\\R{Z}'}}\\right]_{\\R{Z}'}\\cap \\mc{R}$, if the intersection is non-empty. The bound for every $s$ is non-increasing in $\\mc{R}$ because $F^*[s]$ is non-decreasing in $\\mc{R}$.\n",
    "\n",
    ":::"
   ]
  },
  {
   "cell_type": "markdown",
   "id": "2966ffa2-f74c-4750-9aef-1aff5d8bbb13",
   "metadata": {},
   "source": [
    ":::{admonition} **Example**\n",
    "\n",
    "The KL-divergence \n",
    "\n",
    "\\begin{align}\n",
    "D_f(P_{\\R{Z}}\\|P_{\\R{Z}'})&= \\sup_{s\\in \\mc{L}^{\\infty}_{\\R{Z}'}} \\underbrace{E[s(\\R{Z})] - \\log E[e^{s(\\R{Z}')}]}_{\\geq}\\\\\n",
    "&= \\sup_{s\\in \\mc{L}^{\\infty}_{\\R{Z}'}} \\overbrace{E[s(\\R{Z})] - e^{-1}E[s(\\R{Z}')]},\n",
    "\\end{align}\n",
    "\n",
    "where the expressions are obtained from the DV formula with $\\mc{R} = \\mc{R}_{\\R{Z}'}$ and $\\mc{R}=\\mc{L}^{\\infty}_{\\R{Z}'}$ respectively.\n",
    "\n",
    ":::"
   ]
  },
  {
   "cell_type": "markdown",
   "id": "f54936f7-b1a6-4e64-b7bd-979931bd4fcd",
   "metadata": {},
   "source": [
    ":::{important}\n",
    "\n",
    "- How to recover a density ratio $\\tfrac{dP_{\\R{Z}}}{dP_{\\R{Z}'}}$ from an optimal $s$ to the DV formula?\n",
    "- Is it meaningful to consider $\\mc{R}$ that does not overlap with $\\left[\\tfrac{dP_{\\R{Z}}}{dP_{\\R{Z}'}}\\right]_{\\R{Z}'}$?\n",
    "\n",
    ":::"
   ]
  },
  {
   "cell_type": "markdown",
   "id": "f7dee24f-85d8-4dfe-8f68-a6197ffa1429",
   "metadata": {},
   "source": [
    "### Reproducing Kernel Hilbert Space"
   ]
  },
  {
   "cell_type": "markdown",
   "id": "4a3d6cb9-5345-4e86-b325-9a9b9edf388e",
   "metadata": {},
   "source": [
    "A positive type function $K\\in (-\\infty, \\infty)^{Z^2}$ is a reproducing kernel, which induces a reproducing kernel Hilbert space (RKHS) $\\mc{H}_K\\subseteq (-\\infty, \\infty)^{Z}$ with inner product $\\langle\\cdot ,\\cdot\\rangle_K$ (and norm $\\norm{\\cdot}_K$) satisfying the reproducing property that, for all $z\\in Z$ and $t\\in \\mc{H}_K$,\n",
    "\n",
    "\\begin{align}\n",
    "\\overbrace{K(\\cdot, z)}^{K_z :=} &\\in \\mc{H}_K\\\\\n",
    "\\langle t, K_z\\rangle_K &= s(z).\n",
    "\\end{align}\n",
    "\n",
    "$K_z$ is called the $z$-point evaluation embedding. It is the unique element in $\\mc{H}$ such such that $t\\in \\mc{H}_K\\mapsto \\langle t, K_z\\rangle_K$ gives the point evaluation function $t\\in \\mc{H}_K \\mapsto s(z)$ at $z$. The mapping from $z\\in Z$ to $K_z$ is called the canonical feature map."
   ]
  },
  {
   "cell_type": "markdown",
   "id": "8cb42504-7dd2-4755-a904-1618f4a0646b",
   "metadata": {},
   "source": [
    "For any $\\R{Z}'$ with $Z\\supseteq \\Omega_{\\R{Z}'}$, the restriction of $\\mc{H}_K$ to $\\R{Z}'$ is\n",
    "\n",
    "\\begin{align}\n",
    "\\mc{H}_K|_{\\R{Z}'} &:=\\Set{\\left.t|_{\\Omega_{\\R{Z}'}}\\right|t\\in \\mc{H}_K }&& \\text{where}\\\\\n",
    "t|_{\\Omega_{\\R{Z}'}} &: z\\in \\Omega_{\\R{Z}'} \\mapsto s(z),\n",
    "\\end{align}\n",
    "\n",
    "which is the function $s$ restricted to the domain $\\Omega_{\\R{Z}'}$.\n",
    "\n",
    "By the reproducing property, the condition $\\mc{H}_K|_{\\R{Z}'} \\subseteq \\mc{L}^{\\infty}_{\\R{Z}'}$ is equivalent to\n",
    "\n",
    "\\begin{align}\n",
    "K_z|_{\\Omega_{\\R{Z}'}} &\\in \\mc{L}^{\\infty}_{\\R{Z}'}&& \\forall z\\in Z.\n",
    "\\end{align}"
   ]
  },
  {
   "cell_type": "markdown",
   "id": "bb16f527-0173-4e28-868c-cb9ad7ec1377",
   "metadata": {},
   "source": [
    "### Correlation Embedding"
   ]
  },
  {
   "cell_type": "markdown",
   "id": "f2232c61-e0ba-46b3-b66e-7101314ef663",
   "metadata": {},
   "source": [
    "By the Riesz representation theorem, each bounded linear functional on a RKHS has a unique embedding in the RKHS. An example is the correlation embedding defined below."
   ]
  },
  {
   "cell_type": "markdown",
   "id": "923851d0-fe5e-4b44-8865-35f49cc02411",
   "metadata": {},
   "source": [
    ":::{admonition} **Definition** (Correlation map)\n",
    "\n",
    "For some reproducing kernel $K\\subseteq (-\\infty, \\infty)^{Z^2}$ and $\\R{Z}'$ such that $\\mc{H}_K|_{\\R{Z}'} \\subseteq \\mc{L}^{\\infty}_{\\R{Z}'}$, define for all \n",
    "\n",
    "\\begin{align}\n",
    " \\mu_{\\R{Z}'}[r](z)&:=\\langle r, K_z|_{\\Omega_{\\R{Z}'}} \\rangle_{\\R{Z}'}\\\\\n",
    " &= E[r(\\R{Z}')K_{\\R{Z}'}(z)]\n",
    "\\end{align}\n",
    "\n",
    "for all $r\\in \\mc{L}^1_{\\R{Z}'}$ and $z\\in Z$.\n",
    "\n",
    ":::"
   ]
  },
  {
   "cell_type": "markdown",
   "id": "d819b32f-86c2-4e96-9e70-d40e6d292cfd",
   "metadata": {},
   "source": [
    "The following result, which is stated in a way analogous to the reproducing property, shows that $\\mu_{\\R{Z}'}[r]$ is the $r$-correlation embedding with respect to the measure $P_{\\R{Z}'}$, and $\\mu_{\\R{Z}'}$ is the correlation map."
   ]
  },
  {
   "cell_type": "markdown",
   "id": "548812ed-156c-4bde-b01c-f58e3b556e89",
   "metadata": {},
   "source": [
    ":::{admonition} **Proposition**\n",
    "\n",
    "\n",
    "Suppose $\\mc{H}_K|_{\\R{Z}'} \\subseteq \\mc{L}^{\\infty}_{\\R{Z}'}$ for some $\\R{Z}'$ and reproducing kernel $K$. For all $r\\in \\mc{L}^1_{\\R{Z}'}$ and $t\\in \\mc{H}_K$, \n",
    "\n",
    "\\begin{align}\n",
    "\\mu_{\\R{Z}'}[r] &\\in \\mc{H}_K \\\\\n",
    "\\langle t, \\mu_{\\R{Z}'}[r]\\rangle_K &= \\langle r, t|_{\\Omega_{\\R{Z}'}}\\rangle_{\\R{Z}'}\\\\\n",
    "&=E[r(\\R{Z}')s(\\R{Z}')].\n",
    "\\end{align}\n",
    "\n",
    ":::"
   ]
  },
  {
   "cell_type": "markdown",
   "id": "9b5a84ef-0298-47d0-a172-27f6921d8f68",
   "metadata": {},
   "source": [
    ":::{admonition} **Proof**\n",
    "\n",
    "Recall that\n",
    "\n",
    "\\begin{align}\n",
    "\\mu_{\\R{Z}'}[r](z)&= \\langle r, K_z|_{\\Omega_{\\R{Z}'}} \\rangle_{\\R{Z}'},\n",
    "\\end{align}\n",
    "\n",
    "i.e., the dual pairing of $r$ with the $z$-point evaluation embedding restricted to $\\Omega_{\\R{Z}'}$. Since $K_z|_{\\Omega_{\\R{Z}'}}\\in  \\mc{L}^{\\infty}_{\\R{Z}'}$, the dual pairing is a bounded linear function of $r\\in \\mc{L}^1_{\\R{Z}'}$, and so $\\mu_{\\R{Z}'}[r]\\in \\mc{H}_K$ as desired. Furthermore,\n",
    "\n",
    "\\begin{align}\n",
    "\\langle t, \\mu_{\\R{Z}'}[r]\\rangle_K\n",
    "&=\\langle t, \\langle r, K_z\\rangle_{\\R{Z}'}\\rangle_K\\\\\n",
    "&=\\langle r, \\langle t, K_z\\rangle_K\\rangle_{\\R{Z}'} && \\text{by linearity}\\\\\n",
    "&=\\langle r, s \\rangle_{\\R{Z}'} && \\text{by the reproducing property},\n",
    "\\end{align}\n",
    "\n",
    "which gives $E[r(\\R{Z}')K_z(\\R{Z}')]$ by definition.\n",
    "\n",
    ":::"
   ]
  },
  {
   "cell_type": "markdown",
   "id": "3b9f5120-1636-4bb8-be5c-d1cd3bac582b",
   "metadata": {},
   "source": [
    "### Kernel-Based Formula"
   ]
  },
  {
   "cell_type": "markdown",
   "id": "a9224ebb-114b-4a04-866f-6455bcf0ffdd",
   "metadata": {},
   "source": [
    ":::{admonition} **Theorem** (Kernel-based formula for $f$-divergence)\n",
    "\n",
    "For $P_{\\R{Z}}\\ll P_{\\R{Z}'}$, a function $f\\in {(-\\infty,\\infty]}^{[0,\\infty)}$ strictly convex with $f(1)=0$, and a reproducing kernel $K\\subseteq (-\\infty, \\infty)^{Z^2}$ such that $\\mc{H}_K|_{\\R{Z}'} \\subseteq \\mc{L}^{\\infty}_{\\R{Z}'}$,\n",
    "\n",
    "\\begin{align}\n",
    "D_f(P_{\\R{Z}}\\|P_{\\R{Z}'})&\\geq \\sup_{\\lambda>0} \\underbrace{\\sup_{t\\in \\mc{H}_K} E[t(\\R{Z})] - F^*[t|_{\\Omega_{\\R{Z}'}}] - \\frac1{4\\lambda} \\norm{t}_K}_{\\alpha(\\lambda):=}\\\\\n",
    "&= \\sup_{\\lambda>0} \\overbrace{\\inf_{r\\in \\mc{R}} E\\left[(f(r(\\R{Z})) \\right] + \\lambda\\norm{E[K_{\\R{Z}}]-\\mu_{\\R{Z}'}[r]}_K}^{\\beta(\\lambda):=}\\\\\n",
    "&= \\inf_{\\substack{r\\in \\mc{R}:\\\\ \\mu_{\\R{Z}'}[r]=E[K_{\\R{Z}}]}} E\\left[(f(r(\\R{Z})) \\right]\n",
    "\\end{align}\n",
    "\n",
    "where\n",
    "\n",
    "\\begin{align}\n",
    "F[r]&:=E\\left[(f(r(\\R{Z})) \\right] + \\delta_{\\mc{R}}[r]\n",
    "\\end{align}\n",
    "\n",
    "for any $\\mc{R}\\subseteq \\mc{L}^1_{\\R{Z}'}$. Furthermore, $\\alpha=\\beta$ and the bounds are non-increasing in $\\mc{R}$ and non-decreasing in $\\lambda$ and $\\mc{H}$. It is tight if $\\mc{R}$ is a convex set, such as $\\mc{R}_{\\R{Z}'}$, that intersects $\\left[\\tfrac{dP_{\\R{Z}}}{dP_{\\R{Z}'}}\\right]_{\\R{Z}'}$, and \n",
    "\n",
    "\\begin{align}\n",
    "\\operatorname{Ker}(\\langle \\cdot, \\mc{H}|_{\\R{Z}'} \\rangle_{\\R{Z'}}) \\cap \\left(\\mc{R}-\\left[\\tfrac{dP_{\\R{Z}}}{dP_{\\R{Z}'}}\\right]_{\\R{Z}'}\\right) \\subseteq [0]_{\\R{Z}'},\n",
    "\\end{align}\n",
    "\n",
    "in which case $r\\in \\mc{R}$ and $\\mu_{\\R{Z}'}[r]=E[K_{\\R{Z}}]$ implies $r\\in \\left[\\tfrac{dP_{\\R{Z}}}{dP_{\\R{Z}'}}\\right]_{\\R{Z}'}$.\n",
    "\n",
    ":::"
   ]
  },
  {
   "cell_type": "markdown",
   "id": "c3551e6b-19ec-4502-b766-fa7daf5ef473",
   "metadata": {},
   "source": [
    ":::{admonition} **Proof**\n",
    "\n",
    "Consider any $r' \\in\\left[\\tfrac{dP_{\\R{Z}}}{dP_{\\R{Z}'}}\\right]_{\\R{Z}'}$.\n",
    "\n",
    "\\begin{align}\n",
    "\\alpha(\\lambda)&=\\sup_{t\\in \\mc{H}_K} E[t(\\R{Z})] - F^*[t|_{\\Omega_{\\R{Z}'}}] - \\frac1{4\\lambda} \\norm{t}_K\\\\\n",
    "&=\\sup_{s\\in \\mc{L}^\\infty(\\R{Z}')} \\sup_{\\substack{t\\in \\mc{H}_K:\\\\ t|_{\\Omega_{\\R{Z}'}}=s}} \\underbrace{E[t(\\R{Z})]}_{\\mathrlap{\\begin{aligned}&=E[s(\\R{Z})]\\\\&= \\left\\langle r', s(\\R{Z}) \\right\\rangle_{\\R{Z}'}\\end{aligned}}} - F^*[\\underbrace{t|_{\\Omega_{\\R{Z}'}}}_{=s}] - \\frac1{4\\lambda} \\norm{t}_K\\\\\n",
    "&=\\sup_{s\\in \\mc{L}^\\infty(\\R{Z}')} \\left\\langle r', s(\\R{Z}) \\right\\rangle_{\\R{Z}'} - F^*[s] - \\overbrace{\\inf_{\\substack{t\\in \\mc{H}_K:\\\\ t|_{\\Omega_{\\R{Z}'}}=s}}\\frac1{4\\lambda} \\norm{t}_K}^{G[s]:=}\\\\\n",
    "&=\\sup_{s\\in \\mc{L}^\\infty(\\R{Z}')} \\left\\langle r', s(\\R{Z}) \\right\\rangle_{\\R{Z}'} - (F^*+G)[s]\\\\\n",
    "&=[F^*+G]^*[r']\n",
    "\\end{align}\n",
    "\n",
    "To compute the above convex conjugate, note that\n",
    "\n",
    "\\begin{align}\n",
    "G^*[r'] \n",
    "&:= \\sup_{s\\in \\mc{L}^\\infty_{\\R{Z}'}} \\langle r', s\\rangle_{\\R{Z}'} - G[s]\\\\\n",
    "&= \\sup_{s\\in \\mc{L}^\\infty_{\\R{Z}'}} \\langle r', s\\rangle_{\\R{Z}'} - \\frac1{4\\lambda} \\inf_{\\substack{t\\in \\mc{H}_K:\\\\ t|_{\\Omega_{\\R{Z}'}}=s}}  \\norm{t}_K\\\\\n",
    "&=  \\sup_{t\\in \\mc{H}_K} \\underbrace{\\sup_{\\substack{s\\in \\mc{L}^\\infty_{\\R{Z}'}:\\\\ t|_{\\Omega_{\\R{Z}'}}=s}} \\langle r', s\\rangle_{\\R{Z}'}}_{\\mathrlap{\\begin{aligned}\n",
    "&=\\langle r', t|_{\\Omega_{\\R{Z}'}}\\rangle_{\\R{Z}'}\\\\\n",
    "&= \\langle t, \\mu_{\\R{Z}'}[r']\\rangle_K \n",
    "\\end{aligned}\n",
    "}} - \\frac1{4\\lambda}   \\norm{t}_K\\\\\n",
    "&= \\sup_{t\\in \\mc{H}_K} \\left(\\norm{2\\lambda\\mu_{\\R{Z}'}[r']}_K  - \\norm{t-2\\lambda\\mu_{\\R{Z}'}[r']}_K \\right)\\frac1{4\\lambda}\\\\\n",
    "&= \\lambda \\norm{\\mu_{\\R{Z}'}[r']}_K\n",
    "\\end{align}\n",
    "\n",
    "By the infimal convolution theorem,\n",
    "\n",
    "\\begin{align}\n",
    "\\alpha(\\lambda)&=[F^*+G]^*[r']\\\\\n",
    "&= [F\\square G^*][r']\\\\\n",
    "&= \\inf_{r\\in \\mc{L}^1_{\\R{Z}'}} F[r] + G^*[r'-r]\\\\\n",
    "&= \\inf_{r\\in \\mc{L}^1_{\\R{Z}'}} E[f(r(\\R{Z}))] + \\delta_{\\mc{R}}[r] + \\lambda \\norm{\\mu_{\\R{Z}'}[r'-r]}_K \\\\\n",
    "&= \\inf_{r\\in \\mc{R}} E[f(r(\\R{Z}))] + \\lambda \\norm*{\\underbrace{\\mu_{\\R{Z}'}[r']}_{=E[K_{\\R{Z}}]}-\\mu_{\\R{Z}'}[r]}_K\\\\\n",
    "&= \\beta(\\lambda)\n",
    "\\end{align}\n",
    "\n",
    "Further maximizing the bound over $\\lambda$ gives\n",
    "\n",
    "\\begin{align}\n",
    "\\sup_{\\lambda >0} \\beta(\\lambda)\n",
    "&= \\inf_{r\\in \\mc{R}} E[f(r(\\R{Z}))] + \\sup_{\\lambda >0} \\lambda \\norm*{E[K_{\\R{Z}}]-\\mu_{\\R{Z}'}[r]}_K\\\\\n",
    "&= \\inf_{\\substack{r\\in \\mc{R}:\\\\ \\mu_{\\R{Z}'}[r]=E[K_{\\R{Z}}]}} E\\left[(f(r(\\R{Z})) \\right]\n",
    "\\end{align}\n",
    "\n",
    "as desired. The bound is tight if $r\\in \\mc{R}$ and $\\mu_{\\R{Z}'}[r]=E[K_{\\R{Z}}]$ imply $r\\in \\left[\\tfrac{dP_{\\R{Z}}}{dP_{\\R{Z}'}}\\right]_{\\R{Z}'}$. This gives the desired equality condition because\n",
    "\n",
    "\\begin{align}\n",
    "r\\in \\mc{R} &\\iff r-r' \\in \\mc{R}-\\Set{\\tfrac{dP_{\\R{Z}}}{dP_{\\R{Z}'}}}\\\\\n",
    "\\mu_{\\R{Z}'}[r]=E[K_{\\R{Z}}] &\\iff r-r'\\in \\operatorname{Ker}(\\langle \\cdot, \\mc{H}|_{\\R{Z}'} \\rangle_{\\R{Z'}}) \\\\\n",
    "r\\in \\left[\\tfrac{dP_{\\R{Z}}}{dP_{\\R{Z}'}}\\right]_{\\R{Z}'} &\\iff r-r'\\in \\left[0\\right]_{\\R{Z}'}.\n",
    "\\end{align}\n",
    "\n",
    ":::"
   ]
  },
  {
   "cell_type": "markdown",
   "id": "b713c265-e5f6-4ed7-8183-1d10e0ebcfef",
   "metadata": {},
   "source": [
    ":::{important}\n",
    "\n",
    "- How to train a neural network to return $t\\in \\mc{H}_K$? E.g.,\n",
    "\n",
    "    \\begin{align}\n",
    "    t_\\theta(z):=\\sum_{i=1}^n a_i K_{z_i}(z)\n",
    "    \\end{align}\n",
    "    \n",
    "    where $\\theta:=(a^n, z^n)$.\n",
    "    \n",
    "- How to train a neural network to return $r\\in \\mc{R}_{\\R{Z}'}$? E.g.,\n",
    "\n",
    "    \\begin{align}\n",
    "    r_\\theta(z):= \\frac{e^{u_{\\theta}(z)}}{E[e^{u_{\\theta}(\\R{Z}')}]}.\n",
    "    \\end{align}\n",
    "    \n",
    "- Can the kernel method mitigate overfitting in sample estimates?\n",
    "\n",
    ":::"
   ]
  }
 ],
 "metadata": {
  "kernelspec": {
   "display_name": "Python (Pyodide)",
   "language": "python",
   "name": "python"
  },
  "language_info": {
   "codemirror_mode": {
    "name": "ipython",
    "version": 3
   },
   "file_extension": ".py",
   "mimetype": "text/x-python",
   "name": "python",
   "nbconvert_exporter": "python",
   "pygments_lexer": "ipython3",
   "version": "3.10.8"
  },
  "widgets": {
   "application/vnd.jupyter.widget-state+json": {
    "state": {},
    "version_major": 2,
    "version_minor": 0
   }
  }
 },
 "nbformat": 4,
 "nbformat_minor": 5
}
